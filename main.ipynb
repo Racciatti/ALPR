{
 "cells": [
  {
   "cell_type": "markdown",
   "metadata": {},
   "source": [
    "### importing libraries"
   ]
  },
  {
   "cell_type": "code",
   "execution_count": 1,
   "metadata": {
    "id": "a4GHO8rkmS-G"
   },
   "outputs": [
    {
     "name": "stderr",
     "output_type": "stream",
     "text": [
      "2025-07-31 03:21:04.072667: I external/local_xla/xla/tsl/cuda/cudart_stub.cc:32] Could not find cuda drivers on your machine, GPU will not be used.\n",
      "2025-07-31 03:21:04.279747: I external/local_xla/xla/tsl/cuda/cudart_stub.cc:32] Could not find cuda drivers on your machine, GPU will not be used.\n",
      "2025-07-31 03:21:04.371084: E external/local_xla/xla/stream_executor/cuda/cuda_fft.cc:467] Unable to register cuFFT factory: Attempting to register factory for plugin cuFFT when one has already been registered\n",
      "WARNING: All log messages before absl::InitializeLog() is called are written to STDERR\n",
      "E0000 00:00:1753942864.524829    2090 cuda_dnn.cc:8579] Unable to register cuDNN factory: Attempting to register factory for plugin cuDNN when one has already been registered\n",
      "E0000 00:00:1753942864.560867    2090 cuda_blas.cc:1407] Unable to register cuBLAS factory: Attempting to register factory for plugin cuBLAS when one has already been registered\n",
      "W0000 00:00:1753942864.809202    2090 computation_placer.cc:177] computation placer already registered. Please check linkage and avoid linking the same target more than once.\n",
      "W0000 00:00:1753942864.809241    2090 computation_placer.cc:177] computation placer already registered. Please check linkage and avoid linking the same target more than once.\n",
      "W0000 00:00:1753942864.809245    2090 computation_placer.cc:177] computation placer already registered. Please check linkage and avoid linking the same target more than once.\n",
      "W0000 00:00:1753942864.809249    2090 computation_placer.cc:177] computation placer already registered. Please check linkage and avoid linking the same target more than once.\n",
      "2025-07-31 03:21:04.827776: I tensorflow/core/platform/cpu_feature_guard.cc:210] This TensorFlow binary is optimized to use available CPU instructions in performance-critical operations.\n",
      "To enable the following instructions: AVX2 FMA, in other operations, rebuild TensorFlow with the appropriate compiler flags.\n"
     ]
    }
   ],
   "source": [
    "from tensorflow.keras import layers, models, datasets, Model\n",
    "from PIL import Image"
   ]
  },
  {
   "cell_type": "markdown",
   "metadata": {
    "colab": {
     "base_uri": "https://localhost:8080/"
    },
    "executionInfo": {
     "elapsed": 1434,
     "status": "ok",
     "timestamp": 1710973724243,
     "user": {
      "displayName": "Enzo Nicolás Stromberg Racciatti",
      "userId": "12238508451821531070"
     },
     "user_tz": 180
    },
    "id": "tAXTbXe8T6yW",
    "outputId": "beb8a478-6000-4709-f10e-4747c814bb10"
   },
   "source": [
    "### loading data"
   ]
  },
  {
   "cell_type": "code",
   "execution_count": 2,
   "metadata": {},
   "outputs": [
    {
     "name": "stdout",
     "output_type": "stream",
     "text": [
      "Downloading data from https://storage.googleapis.com/tensorflow/tf-keras-datasets/mnist.npz\n",
      "\u001b[1m 3252224/11490434\u001b[0m \u001b[32m━━━━━\u001b[0m\u001b[37m━━━━━━━━━━━━━━━\u001b[0m \u001b[1m7s\u001b[0m 1us/step"
     ]
    },
    {
     "ename": "KeyboardInterrupt",
     "evalue": "",
     "output_type": "error",
     "traceback": [
      "\u001b[31m---------------------------------------------------------------------------\u001b[39m",
      "\u001b[31mKeyboardInterrupt\u001b[39m                         Traceback (most recent call last)",
      "\u001b[36mCell\u001b[39m\u001b[36m \u001b[39m\u001b[32mIn[2]\u001b[39m\u001b[32m, line 4\u001b[39m\n\u001b[32m      1\u001b[39m \u001b[38;5;66;03m# EXEMPLO AQUI: É NESSE FORMATO QUE PRECISAMOS\u001b[39;00m\n\u001b[32m----> \u001b[39m\u001b[32m4\u001b[39m (train_images, train_labels), (test_images, test_labels) = \u001b[43mdatasets\u001b[49m\u001b[43m.\u001b[49m\u001b[43mmnist\u001b[49m\u001b[43m.\u001b[49m\u001b[43mload_data\u001b[49m\u001b[43m(\u001b[49m\u001b[43m)\u001b[49m\n\u001b[32m      6\u001b[39m \u001b[38;5;66;03m# Setting input shape, normalizing color channel, setting datatype to float32 for numerical stability\u001b[39;00m\n\u001b[32m      7\u001b[39m train_images = train_images.reshape((\u001b[32m60000\u001b[39m, \u001b[32m28\u001b[39m, \u001b[32m28\u001b[39m, \u001b[32m1\u001b[39m)).astype(\u001b[33m'\u001b[39m\u001b[33mfloat32\u001b[39m\u001b[33m'\u001b[39m) / \u001b[32m255\u001b[39m\n",
      "\u001b[36mFile \u001b[39m\u001b[32m~/Desktop/Code/alpr/venv/lib/python3.12/site-packages/keras/src/datasets/mnist.py:60\u001b[39m, in \u001b[36mload_data\u001b[39m\u001b[34m(path)\u001b[39m\n\u001b[32m     11\u001b[39m \u001b[38;5;250m\u001b[39m\u001b[33;03m\"\"\"Loads the MNIST dataset.\u001b[39;00m\n\u001b[32m     12\u001b[39m \n\u001b[32m     13\u001b[39m \u001b[33;03mThis is a dataset of 60,000 28x28 grayscale images of the 10 digits,\u001b[39;00m\n\u001b[32m   (...)\u001b[39m\u001b[32m     55\u001b[39m \u001b[33;03m    https://creativecommons.org/licenses/by-sa/3.0/)\u001b[39;00m\n\u001b[32m     56\u001b[39m \u001b[33;03m\"\"\"\u001b[39;00m\n\u001b[32m     57\u001b[39m origin_folder = (\n\u001b[32m     58\u001b[39m     \u001b[33m\"\u001b[39m\u001b[33mhttps://storage.googleapis.com/tensorflow/tf-keras-datasets/\u001b[39m\u001b[33m\"\u001b[39m\n\u001b[32m     59\u001b[39m )\n\u001b[32m---> \u001b[39m\u001b[32m60\u001b[39m path = \u001b[43mget_file\u001b[49m\u001b[43m(\u001b[49m\n\u001b[32m     61\u001b[39m \u001b[43m    \u001b[49m\u001b[43mfname\u001b[49m\u001b[43m=\u001b[49m\u001b[43mpath\u001b[49m\u001b[43m,\u001b[49m\n\u001b[32m     62\u001b[39m \u001b[43m    \u001b[49m\u001b[43morigin\u001b[49m\u001b[43m=\u001b[49m\u001b[43morigin_folder\u001b[49m\u001b[43m \u001b[49m\u001b[43m+\u001b[49m\u001b[43m \u001b[49m\u001b[33;43m\"\u001b[39;49m\u001b[33;43mmnist.npz\u001b[39;49m\u001b[33;43m\"\u001b[39;49m\u001b[43m,\u001b[49m\n\u001b[32m     63\u001b[39m \u001b[43m    \u001b[49m\u001b[43mfile_hash\u001b[49m\u001b[43m=\u001b[49m\u001b[43m(\u001b[49m\u001b[43m  \u001b[49m\u001b[38;5;66;43;03m# noqa: E501\u001b[39;49;00m\n\u001b[32m     64\u001b[39m \u001b[43m        \u001b[49m\u001b[33;43m\"\u001b[39;49m\u001b[33;43m731c5ac602752760c8e48fbffcf8c3b850d9dc2a2aedcf2cc48468fc17b673d1\u001b[39;49m\u001b[33;43m\"\u001b[39;49m\n\u001b[32m     65\u001b[39m \u001b[43m    \u001b[49m\u001b[43m)\u001b[49m\u001b[43m,\u001b[49m\n\u001b[32m     66\u001b[39m \u001b[43m\u001b[49m\u001b[43m)\u001b[49m\n\u001b[32m     67\u001b[39m \u001b[38;5;28;01mwith\u001b[39;00m np.load(path, allow_pickle=\u001b[38;5;28;01mTrue\u001b[39;00m) \u001b[38;5;28;01mas\u001b[39;00m f:\n\u001b[32m     68\u001b[39m     x_train, y_train = f[\u001b[33m\"\u001b[39m\u001b[33mx_train\u001b[39m\u001b[33m\"\u001b[39m], f[\u001b[33m\"\u001b[39m\u001b[33my_train\u001b[39m\u001b[33m\"\u001b[39m]\n",
      "\u001b[36mFile \u001b[39m\u001b[32m~/Desktop/Code/alpr/venv/lib/python3.12/site-packages/keras/src/utils/file_utils.py:311\u001b[39m, in \u001b[36mget_file\u001b[39m\u001b[34m(fname, origin, untar, md5_hash, file_hash, cache_subdir, hash_algorithm, extract, archive_format, cache_dir, force_download)\u001b[39m\n\u001b[32m    309\u001b[39m \u001b[38;5;28;01mtry\u001b[39;00m:\n\u001b[32m    310\u001b[39m     \u001b[38;5;28;01mtry\u001b[39;00m:\n\u001b[32m--> \u001b[39m\u001b[32m311\u001b[39m         \u001b[43murlretrieve\u001b[49m\u001b[43m(\u001b[49m\u001b[43morigin\u001b[49m\u001b[43m,\u001b[49m\u001b[43m \u001b[49m\u001b[43mdownload_target\u001b[49m\u001b[43m,\u001b[49m\u001b[43m \u001b[49m\u001b[43mDLProgbar\u001b[49m\u001b[43m(\u001b[49m\u001b[43m)\u001b[49m\u001b[43m)\u001b[49m\n\u001b[32m    312\u001b[39m     \u001b[38;5;28;01mexcept\u001b[39;00m urllib.error.HTTPError \u001b[38;5;28;01mas\u001b[39;00m e:\n\u001b[32m    313\u001b[39m         \u001b[38;5;28;01mraise\u001b[39;00m \u001b[38;5;167;01mException\u001b[39;00m(error_msg.format(origin, e.code, e.msg))\n",
      "\u001b[36mFile \u001b[39m\u001b[32m/usr/lib/python3.12/urllib/request.py:268\u001b[39m, in \u001b[36murlretrieve\u001b[39m\u001b[34m(url, filename, reporthook, data)\u001b[39m\n\u001b[32m    265\u001b[39m \u001b[38;5;28;01mif\u001b[39;00m reporthook:\n\u001b[32m    266\u001b[39m     reporthook(blocknum, bs, size)\n\u001b[32m--> \u001b[39m\u001b[32m268\u001b[39m \u001b[38;5;28;01mwhile\u001b[39;00m block := \u001b[43mfp\u001b[49m\u001b[43m.\u001b[49m\u001b[43mread\u001b[49m\u001b[43m(\u001b[49m\u001b[43mbs\u001b[49m\u001b[43m)\u001b[49m:\n\u001b[32m    269\u001b[39m     read += \u001b[38;5;28mlen\u001b[39m(block)\n\u001b[32m    270\u001b[39m     tfp.write(block)\n",
      "\u001b[36mFile \u001b[39m\u001b[32m/usr/lib/python3.12/http/client.py:479\u001b[39m, in \u001b[36mHTTPResponse.read\u001b[39m\u001b[34m(self, amt)\u001b[39m\n\u001b[32m    476\u001b[39m \u001b[38;5;28;01mif\u001b[39;00m \u001b[38;5;28mself\u001b[39m.length \u001b[38;5;129;01mis\u001b[39;00m \u001b[38;5;129;01mnot\u001b[39;00m \u001b[38;5;28;01mNone\u001b[39;00m \u001b[38;5;129;01mand\u001b[39;00m amt > \u001b[38;5;28mself\u001b[39m.length:\n\u001b[32m    477\u001b[39m     \u001b[38;5;66;03m# clip the read to the \"end of response\"\u001b[39;00m\n\u001b[32m    478\u001b[39m     amt = \u001b[38;5;28mself\u001b[39m.length\n\u001b[32m--> \u001b[39m\u001b[32m479\u001b[39m s = \u001b[38;5;28;43mself\u001b[39;49m\u001b[43m.\u001b[49m\u001b[43mfp\u001b[49m\u001b[43m.\u001b[49m\u001b[43mread\u001b[49m\u001b[43m(\u001b[49m\u001b[43mamt\u001b[49m\u001b[43m)\u001b[49m\n\u001b[32m    480\u001b[39m \u001b[38;5;28;01mif\u001b[39;00m \u001b[38;5;129;01mnot\u001b[39;00m s \u001b[38;5;129;01mand\u001b[39;00m amt:\n\u001b[32m    481\u001b[39m     \u001b[38;5;66;03m# Ideally, we would raise IncompleteRead if the content-length\u001b[39;00m\n\u001b[32m    482\u001b[39m     \u001b[38;5;66;03m# wasn't satisfied, but it might break compatibility.\u001b[39;00m\n\u001b[32m    483\u001b[39m     \u001b[38;5;28mself\u001b[39m._close_conn()\n",
      "\u001b[36mFile \u001b[39m\u001b[32m/usr/lib/python3.12/socket.py:720\u001b[39m, in \u001b[36mSocketIO.readinto\u001b[39m\u001b[34m(self, b)\u001b[39m\n\u001b[32m    718\u001b[39m \u001b[38;5;28;01mwhile\u001b[39;00m \u001b[38;5;28;01mTrue\u001b[39;00m:\n\u001b[32m    719\u001b[39m     \u001b[38;5;28;01mtry\u001b[39;00m:\n\u001b[32m--> \u001b[39m\u001b[32m720\u001b[39m         \u001b[38;5;28;01mreturn\u001b[39;00m \u001b[38;5;28;43mself\u001b[39;49m\u001b[43m.\u001b[49m\u001b[43m_sock\u001b[49m\u001b[43m.\u001b[49m\u001b[43mrecv_into\u001b[49m\u001b[43m(\u001b[49m\u001b[43mb\u001b[49m\u001b[43m)\u001b[49m\n\u001b[32m    721\u001b[39m     \u001b[38;5;28;01mexcept\u001b[39;00m timeout:\n\u001b[32m    722\u001b[39m         \u001b[38;5;28mself\u001b[39m._timeout_occurred = \u001b[38;5;28;01mTrue\u001b[39;00m\n",
      "\u001b[36mFile \u001b[39m\u001b[32m/usr/lib/python3.12/ssl.py:1251\u001b[39m, in \u001b[36mSSLSocket.recv_into\u001b[39m\u001b[34m(self, buffer, nbytes, flags)\u001b[39m\n\u001b[32m   1247\u001b[39m     \u001b[38;5;28;01mif\u001b[39;00m flags != \u001b[32m0\u001b[39m:\n\u001b[32m   1248\u001b[39m         \u001b[38;5;28;01mraise\u001b[39;00m \u001b[38;5;167;01mValueError\u001b[39;00m(\n\u001b[32m   1249\u001b[39m           \u001b[33m\"\u001b[39m\u001b[33mnon-zero flags not allowed in calls to recv_into() on \u001b[39m\u001b[38;5;132;01m%s\u001b[39;00m\u001b[33m\"\u001b[39m %\n\u001b[32m   1250\u001b[39m           \u001b[38;5;28mself\u001b[39m.\u001b[34m__class__\u001b[39m)\n\u001b[32m-> \u001b[39m\u001b[32m1251\u001b[39m     \u001b[38;5;28;01mreturn\u001b[39;00m \u001b[38;5;28;43mself\u001b[39;49m\u001b[43m.\u001b[49m\u001b[43mread\u001b[49m\u001b[43m(\u001b[49m\u001b[43mnbytes\u001b[49m\u001b[43m,\u001b[49m\u001b[43m \u001b[49m\u001b[43mbuffer\u001b[49m\u001b[43m)\u001b[49m\n\u001b[32m   1252\u001b[39m \u001b[38;5;28;01melse\u001b[39;00m:\n\u001b[32m   1253\u001b[39m     \u001b[38;5;28;01mreturn\u001b[39;00m \u001b[38;5;28msuper\u001b[39m().recv_into(buffer, nbytes, flags)\n",
      "\u001b[36mFile \u001b[39m\u001b[32m/usr/lib/python3.12/ssl.py:1103\u001b[39m, in \u001b[36mSSLSocket.read\u001b[39m\u001b[34m(self, len, buffer)\u001b[39m\n\u001b[32m   1101\u001b[39m \u001b[38;5;28;01mtry\u001b[39;00m:\n\u001b[32m   1102\u001b[39m     \u001b[38;5;28;01mif\u001b[39;00m buffer \u001b[38;5;129;01mis\u001b[39;00m \u001b[38;5;129;01mnot\u001b[39;00m \u001b[38;5;28;01mNone\u001b[39;00m:\n\u001b[32m-> \u001b[39m\u001b[32m1103\u001b[39m         \u001b[38;5;28;01mreturn\u001b[39;00m \u001b[38;5;28;43mself\u001b[39;49m\u001b[43m.\u001b[49m\u001b[43m_sslobj\u001b[49m\u001b[43m.\u001b[49m\u001b[43mread\u001b[49m\u001b[43m(\u001b[49m\u001b[38;5;28;43mlen\u001b[39;49m\u001b[43m,\u001b[49m\u001b[43m \u001b[49m\u001b[43mbuffer\u001b[49m\u001b[43m)\u001b[49m\n\u001b[32m   1104\u001b[39m     \u001b[38;5;28;01melse\u001b[39;00m:\n\u001b[32m   1105\u001b[39m         \u001b[38;5;28;01mreturn\u001b[39;00m \u001b[38;5;28mself\u001b[39m._sslobj.read(\u001b[38;5;28mlen\u001b[39m)\n",
      "\u001b[31mKeyboardInterrupt\u001b[39m: "
     ]
    }
   ],
   "source": [
    "# EXEMPLO AQUI: É NESSE FORMATO QUE PRECISAMOS\n",
    "\n",
    "\n",
    "(train_images, train_labels), (test_images, test_labels) = datasets.mnist.load_data()\n",
    "\n",
    "# Setting input shape, normalizing color channel, setting datatype to float32 for numerical stability\n",
    "train_images = train_images.reshape((60000, 28, 28, 1)).astype('float32') / 255\n",
    "test_images = test_images.reshape((10000, 28, 28, 1)).astype('float32') / 255\n",
    "\n",
    "classes = [str(i) for i in range(10)]"
   ]
  },
  {
   "cell_type": "markdown",
   "metadata": {},
   "source": [
    "### Data preprocessing "
   ]
  },
  {
   "cell_type": "markdown",
   "metadata": {},
   "source": [
    "#### Image size reduction\n",
    "2.5 x reduction --> 6.25 pixel number reduction"
   ]
  },
  {
   "cell_type": "code",
   "execution_count": 3,
   "metadata": {},
   "outputs": [
    {
     "name": "stdout",
     "output_type": "stream",
     "text": [
      "Found 24850 images to resize. Starting process...\n"
     ]
    },
    {
     "name": "stderr",
     "output_type": "stream",
     "text": [
      "100%|██████████| 24850/24850 [00:10<00:00, 2463.28it/s]\n"
     ]
    },
    {
     "name": "stdout",
     "output_type": "stream",
     "text": [
      "\n",
      "✅ Done! Successfully resized and saved 24850 images to ./data/resized/\n"
     ]
    }
   ],
   "source": [
    "import os\n",
    "import cv2\n",
    "from concurrent.futures import ProcessPoolExecutor\n",
    "from tqdm import tqdm\n",
    "\n",
    "# --- Configuration ---\n",
    "SOURCE_DIR = './data/train/'      # Folder with class subfolders (e.g., A, B, C...)\n",
    "OUTPUT_DIR = './data/resized/'    # Where to save the resized images\n",
    "NEW_SIZE = (40, 30)               # New size for the images (width, height)\n",
    "\n",
    "# --- 1. Function to resize and save a single image ---\n",
    "def resize_and_save(relative_path):\n",
    "    \"\"\"\n",
    "    Reads an image from its relative path, resizes it, and saves it to the\n",
    "    output directory while maintaining the subfolder structure.\n",
    "    \"\"\"\n",
    "    try:\n",
    "        # Construct the full input and output paths\n",
    "        full_input_path = os.path.join(SOURCE_DIR, relative_path)\n",
    "        full_output_path = os.path.join(OUTPUT_DIR, relative_path)\n",
    "\n",
    "        # Create the destination subdirectory if it doesn't exist\n",
    "        os.makedirs(os.path.dirname(full_output_path), exist_ok=True)\n",
    "\n",
    "        # Read the image\n",
    "        image = cv2.imread(full_input_path, cv2.IMREAD_GRAYSCALE)\n",
    "        if image is None:\n",
    "            # print(f\"Warning: Could not read {full_input_path}, skipping.\")\n",
    "            return 0 # Return 0 for failure\n",
    "\n",
    "        # Resize the image using INTER_AREA for best downscaling results\n",
    "        resized_image = cv2.resize(image, NEW_SIZE, interpolation=cv2.INTER_AREA)\n",
    "\n",
    "        # Save the resized image\n",
    "        cv2.imwrite(full_output_path, resized_image)\n",
    "        return 1 # Return 1 for success\n",
    "    except Exception as e:\n",
    "        print(f\"Error processing {relative_path}: {e}\")\n",
    "        return 0\n",
    "\n",
    "# --- 2. Main execution block to run the process in parallel ---\n",
    "if __name__ == \"__main__\":\n",
    "    # Find all image files in the source directory and its subdirectories\n",
    "    all_image_paths = []\n",
    "    for root, _, files in os.walk(SOURCE_DIR):\n",
    "        for file in files:\n",
    "            if file.lower().endswith(('.png', '.jpg', '.jpeg')):\n",
    "                # Get the path reomlative to the source directory (e.g., \"A/image1.png\")\n",
    "                relative_path = os.path.relpath(os.path.join(root, file), SOURCE_DIR)\n",
    "                all_image_paths.append(relative_path)\n",
    "    \n",
    "    if not all_image_paths:\n",
    "        print(f\"No images found in {SOURCE_DIR}. Please check the path.\")\n",
    "    else:\n",
    "        print(f\"Found {len(all_image_paths)} images to resize. Starting process...\")\n",
    "\n",
    "        # Use ProcessPoolExecutor to run resizing on all available CPU cores\n",
    "        with ProcessPoolExecutor() as executor:\n",
    "            # Use tqdm to create a progress bar\n",
    "            results = list(tqdm(executor.map(resize_and_save, all_image_paths), total=len(all_image_paths)))\n",
    "\n",
    "        total_processed = sum(results)\n",
    "        print(f\"\\n✅ Done! Successfully resized and saved {total_processed} images to {OUTPUT_DIR}\")"
   ]
  },
  {
   "cell_type": "markdown",
   "metadata": {},
   "source": [
    "#### Thresholding"
   ]
  },
  {
   "cell_type": "markdown",
   "metadata": {},
   "source": [
    "##### OTSU"
   ]
  },
  {
   "cell_type": "code",
   "execution_count": 4,
   "metadata": {},
   "outputs": [
    {
     "name": "stdout",
     "output_type": "stream",
     "text": [
      "Found 24850 images to threshold. Starting process...\n"
     ]
    },
    {
     "name": "stderr",
     "output_type": "stream",
     "text": [
      "100%|██████████| 24850/24850 [00:09<00:00, 2718.32it/s]\n"
     ]
    },
    {
     "name": "stdout",
     "output_type": "stream",
     "text": [
      "\n",
      "✅ Done! Successfully processed and saved 24850 images to ./data/thresholded/\n"
     ]
    }
   ],
   "source": [
    "import os\n",
    "import cv2\n",
    "from concurrent.futures import ProcessPoolExecutor\n",
    "from tqdm import tqdm\n",
    "\n",
    "# --- Configuration ---\n",
    "# Use the resized images as the source for maximum efficiency\n",
    "SOURCE_DIR = './data/resized/'\n",
    "OUTPUT_DIR = './data/thresholded/'\n",
    "\n",
    "# --- 1. Function to threshold and save a single image ---\n",
    "def threshold_and_save(relative_path):\n",
    "    \"\"\"\n",
    "    Reads an image, applies Otsu's thresholding, and saves the result.\n",
    "    \"\"\"\n",
    "    try:\n",
    "        # Construct full input and output paths\n",
    "        full_input_path = os.path.join(SOURCE_DIR, relative_path)\n",
    "        full_output_path = os.path.join(OUTPUT_DIR, relative_path)\n",
    "\n",
    "        # Create the destination subdirectory if it doesn't exist\n",
    "        os.makedirs(os.path.dirname(full_output_path), exist_ok=True)\n",
    "\n",
    "        # Read the image in grayscale\n",
    "        image = cv2.imread(full_input_path, cv2.IMREAD_GRAYSCALE)\n",
    "        if image is None:\n",
    "            return 0  # Return 0 for failure\n",
    "\n",
    "        # Apply Otsu's thresholding\n",
    "        # The [1] selects the image array from the tuple returned by cv2.threshold\n",
    "        thresholded_image = cv2.threshold(image, 0, 255, cv2.THRESH_BINARY_INV + cv2.THRESH_OTSU)[1]\n",
    "\n",
    "        # Save the thresholded image\n",
    "        cv2.imwrite(full_output_path, thresholded_image)\n",
    "        return 1  # Return 1 for success\n",
    "    except Exception as e:\n",
    "        print(f\"Error processing {relative_path}: {e}\")\n",
    "        return 0\n",
    "\n",
    "# --- 2. Main execution block to run the process in parallel ---\n",
    "if __name__ == \"__main__\":\n",
    "    # Find all image files in the source directory\n",
    "    all_image_paths = []\n",
    "    for root, _, files in os.walk(SOURCE_DIR):\n",
    "        for file in files:\n",
    "            if file.lower().endswith(('.png', '.jpg', '.jpeg')):\n",
    "                relative_path = os.path.relpath(os.path.join(root, file), SOURCE_DIR)\n",
    "                all_image_paths.append(relative_path)\n",
    "\n",
    "    if not all_image_paths:\n",
    "        print(f\"No images found in {SOURCE_DIR}. Please check the path.\")\n",
    "    else:\n",
    "        print(f\"Found {len(all_image_paths)} images to threshold. Starting process...\")\n",
    "\n",
    "        # Use ProcessPoolExecutor to run on all available CPU cores\n",
    "        with ProcessPoolExecutor() as executor:\n",
    "            # Use tqdm to create a progress bar\n",
    "            results = list(tqdm(executor.map(threshold_and_save, all_image_paths), total=len(all_image_paths)))\n",
    "\n",
    "        total_processed = sum(results)\n",
    "        print(f\"\\n✅ Done! Successfully processed and saved {total_processed} images to {OUTPUT_DIR}\")"
   ]
  },
  {
   "cell_type": "markdown",
   "metadata": {},
   "source": [
    "##### Adaptive Thresholding"
   ]
  },
  {
   "cell_type": "code",
   "execution_count": 5,
   "metadata": {},
   "outputs": [
    {
     "name": "stdout",
     "output_type": "stream",
     "text": [
      "Found 24850 images to process. Starting...\n"
     ]
    },
    {
     "name": "stderr",
     "output_type": "stream",
     "text": [
      "100%|██████████| 24850/24850 [00:08<00:00, 2840.81it/s]\n"
     ]
    },
    {
     "name": "stdout",
     "output_type": "stream",
     "text": [
      "\n",
      "✅ Done! Processed 24850 images saved to ./data/adaptive_thresholded/\n"
     ]
    }
   ],
   "source": [
    "import os\n",
    "import cv2\n",
    "from concurrent.futures import ProcessPoolExecutor\n",
    "from tqdm import tqdm\n",
    "\n",
    "# --- Configuration ---\n",
    "SOURCE_DIR = './data/resized/'\n",
    "OUTPUT_DIR = './data/adaptive_thresholded/'\n",
    "BLOCK_SIZE = 15  # Must be an odd number (e.g., 11, 15, 21)\n",
    "C_CONSTANT = 4   # Constant to subtract from the mean (fine-tune this)\n",
    "\n",
    "# --- 1. Function to apply adaptive thresholding and save ---\n",
    "def adaptive_threshold_and_save(relative_path):\n",
    "    \"\"\"\n",
    "    Reads an image, applies adaptive thresholding, and saves the result.\n",
    "    \"\"\"\n",
    "    try:\n",
    "        full_input_path = os.path.join(SOURCE_DIR, relative_path)\n",
    "        full_output_path = os.path.join(OUTPUT_DIR, relative_path)\n",
    "\n",
    "        os.makedirs(os.path.dirname(full_output_path), exist_ok=True)\n",
    "\n",
    "        image = cv2.imread(full_input_path, cv2.IMREAD_GRAYSCALE)\n",
    "        if image is None:\n",
    "            return 0\n",
    "\n",
    "        # Apply Adaptive Thresholding\n",
    "        thresholded_image = cv2.adaptiveThreshold(\n",
    "            image,\n",
    "            255,                                  # Max value to assign\n",
    "            cv2.ADAPTIVE_THRESH_GAUSSIAN_C,       # Method to calculate threshold\n",
    "            cv2.THRESH_BINARY_INV,                # Invert the image (character is white)\n",
    "            BLOCK_SIZE,                           # Neighborhood size\n",
    "            C_CONSTANT                            # Constant to subtract\n",
    "        )\n",
    "\n",
    "        cv2.imwrite(full_output_path, thresholded_image)\n",
    "        return 1\n",
    "    except Exception as e:\n",
    "        print(f\"Error processing {relative_path}: {e}\")\n",
    "        return 0\n",
    "\n",
    "# --- 2. Main execution block ---\n",
    "if __name__ == \"__main__\":\n",
    "    all_image_paths = []\n",
    "    for root, _, files in os.walk(SOURCE_DIR):\n",
    "        for file in files:\n",
    "            if file.lower().endswith(('.png', '.jpg', '.jpeg')):\n",
    "                relative_path = os.path.relpath(os.path.join(root, file), SOURCE_DIR)\n",
    "                all_image_paths.append(relative_path)\n",
    "\n",
    "    if not all_image_paths:\n",
    "        print(f\"No images found in {SOURCE_DIR}. Please check the path.\")\n",
    "    else:\n",
    "        print(f\"Found {len(all_image_paths)} images to process. Starting...\")\n",
    "\n",
    "        with ProcessPoolExecutor() as executor:\n",
    "            results = list(tqdm(executor.map(adaptive_threshold_and_save, all_image_paths), total=len(all_image_paths)))\n",
    "\n",
    "        total_processed = sum(results)\n",
    "        print(f\"\\n✅ Done! Processed {total_processed} images saved to {OUTPUT_DIR}\")"
   ]
  },
  {
   "cell_type": "markdown",
   "metadata": {},
   "source": [
    "#### Data cleaning\n",
    "Removing bad examples from the training dataset"
   ]
  },
  {
   "cell_type": "code",
   "execution_count": 6,
   "metadata": {},
   "outputs": [
    {
     "name": "stdout",
     "output_type": "stream",
     "text": [
      "Found 24850 images to clean. Starting process...\n"
     ]
    },
    {
     "name": "stderr",
     "output_type": "stream",
     "text": [
      "100%|██████████| 24850/24850 [00:08<00:00, 3003.00it/s]\n"
     ]
    },
    {
     "name": "stdout",
     "output_type": "stream",
     "text": [
      "\n",
      "✅ Done! Kept 22864 images and discarded 1986.\n",
      "Cleaned images are saved in ./data/cleaned/\n"
     ]
    }
   ],
   "source": [
    "import os\n",
    "import cv2\n",
    "import numpy as np\n",
    "from concurrent.futures import ProcessPoolExecutor\n",
    "from tqdm import tqdm\n",
    "\n",
    "# --- Configuration: TUNE THESE VALUES ---\n",
    "SOURCE_DIR = './data/thresholded/'\n",
    "OUTPUT_DIR = './data/cleaned/'\n",
    "\n",
    "# -- Contour Filters --\n",
    "MIN_CONTOURS = 1      # Minimum number of contours to be considered valid\n",
    "MAX_CONTOURS = 3     # Maximum number of contours (to filter out noisy images)\n",
    "\n",
    "# This filters out images that are mostly blank or mostly solid white\n",
    "MIN_AREA_RATIO = 0.20 \n",
    "MAX_AREA_RATIO = 0.80  \n",
    "\n",
    "def analyze_and_filter_image(relative_path):\n",
    "    try:\n",
    "        full_input_path = os.path.join(SOURCE_DIR, relative_path)\n",
    "        image = cv2.imread(full_input_path, cv2.IMREAD_GRAYSCALE)\n",
    "        if image is None: return 0\n",
    "\n",
    "        # Find all contours in the binary image\n",
    "        contours, _ = cv2.findContours(image, cv2.RETR_EXTERNAL, cv2.CHAIN_APPROX_SIMPLE)\n",
    "        \n",
    "        # --- Apply Filtering Logic ---\n",
    "        # 1. Filter by number of contours\n",
    "        if not (MIN_CONTOURS <= len(contours) <= MAX_CONTOURS):\n",
    "            return 0 # Discard\n",
    "\n",
    "        # 2. Filter by the area of the largest contour\n",
    "        image_area = image.shape[0] * image.shape[1]\n",
    "        largest_contour = max(contours, key=cv2.contourArea)\n",
    "        contour_area = cv2.contourArea(largest_contour)\n",
    "        area_ratio = contour_area / image_area\n",
    "        \n",
    "        if not (MIN_AREA_RATIO <= area_ratio <= MAX_AREA_RATIO):\n",
    "            return 0 # Discard\n",
    "        \n",
    "        # --- If all checks pass, copy the file ---\n",
    "        full_output_path = os.path.join(OUTPUT_DIR, relative_path)\n",
    "        os.makedirs(os.path.dirname(full_output_path), exist_ok=True)\n",
    "        cv2.imwrite(full_output_path, image) # Using cv2.imwrite to copy\n",
    "        \n",
    "        return 1 # Keep\n",
    "    except Exception:\n",
    "        return 0\n",
    "\n",
    "# --- 2. Main execution block ---\n",
    "if __name__ == \"__main__\":\n",
    "    all_image_paths = []\n",
    "    for root, _, files in os.walk(SOURCE_DIR):\n",
    "        for file in files:\n",
    "            if file.lower().endswith(('.png', '.jpg', '.jpeg')):\n",
    "                relative_path = os.path.relpath(os.path.join(root, file), SOURCE_DIR)\n",
    "                all_image_paths.append(relative_path)\n",
    "\n",
    "    if not all_image_paths:\n",
    "        print(f\"No images found in {SOURCE_DIR}.\")\n",
    "    else:\n",
    "        print(f\"Found {len(all_image_paths)} images to clean. Starting process...\")\n",
    "\n",
    "        with ProcessPoolExecutor() as executor:\n",
    "            results = list(tqdm(executor.map(analyze_and_filter_image, all_image_paths), total=len(all_image_paths)))\n",
    "\n",
    "        total_kept = sum(results)\n",
    "        total_discarded = len(all_image_paths) - total_kept\n",
    "        print(f\"\\n✅ Done! Kept {total_kept} images and discarded {total_discarded}.\")\n",
    "        print(f\"Cleaned images are saved in {OUTPUT_DIR}\")"
   ]
  },
  {
   "cell_type": "markdown",
   "metadata": {},
   "source": [
    "#### Checking for dataset balance after cleaning"
   ]
  },
  {
   "cell_type": "code",
   "execution_count": 12,
   "metadata": {},
   "outputs": [
    {
     "name": "stdout",
     "output_type": "stream",
     "text": [
      "Number of classes: 35\n"
     ]
    },
    {
     "data": {
      "image/png": "[encoded data removed]",
      "text/plain": [
       "<Figure size 640x480 with 1 Axes>"
      ]
     },
     "metadata": {},
     "output_type": "display_data"
    },
    {
     "name": "stdout",
     "output_type": "stream",
     "text": [
      "\n",
      "Classes: ['0', '1', '2', '3', '4', '5', '6', '7', '8', '9', 'A', 'B', 'C', 'D', 'E', 'F', 'G', 'H', 'I', 'J', 'K', 'L', 'M', 'N', 'P', 'Q', 'R', 'S', 'T', 'U', 'V', 'W', 'X', 'Y', 'Z']\n",
      "Examples per class: [6490, 6930, 6730, 6890, 5870, 6540, 6990, 5960, 6700, 7120, 6560, 6590, 6890, 6250, 6510, 5360, 7020, 6920, 6050, 5180, 6940, 5850, 7140, 7140, 6780, 6530, 7140, 7100, 5540, 6850, 6990, 6780, 7030, 6110, 5150]\n",
      "Total examples: 228620\n",
      "Average examples per class: 6532.00\n"
     ]
    }
   ],
   "source": [
    "# Importing libraries\n",
    "import os\n",
    "from matplotlib import pyplot as plt\n",
    "\n",
    "# Checking the training dataset\n",
    "\n",
    "# Checking the number of examples to guarantee balanced training\n",
    "base_path = \"./data/augmented_data/\" \n",
    "classes = [entry.name for entry in os.scandir(base_path)]\n",
    "print(f\"Number of classes: {len(classes)}\")\n",
    "\n",
    "# Count examples per class and create bar chart\n",
    "examples_count = [len(list(os.scandir(f\"{base_path}/{char}\"))) for char in classes]\n",
    "plt.bar(classes, examples_count)\n",
    "plt.title(\"Examples per Class\")\n",
    "plt.xlabel(\"Classes\")\n",
    "plt.ylabel(\"Number of Examples\")\n",
    "plt.xticks(rotation=45)\n",
    "plt.tight_layout()\n",
    "plt.show()\n",
    "\n",
    "# Print summary statistics\n",
    "print(f\"\\nClasses: {classes}\")\n",
    "print(f\"Examples per class: {examples_count}\")\n",
    "print(f\"Total examples: {sum(examples_count)}\")\n",
    "print(f\"Average examples per class: {sum(examples_count) / len(examples_count):.2f}\")"
   ]
  },
  {
   "cell_type": "markdown",
   "metadata": {},
   "source": [
    "not perfect, but acceptable (max ratio of 1.4 : 1)"
   ]
  },
  {
   "cell_type": "markdown",
   "metadata": {},
   "source": [
    "#### Data augmentation"
   ]
  },
  {
   "cell_type": "code",
   "execution_count": 13,
   "metadata": {},
   "outputs": [],
   "source": [
    "import os\n",
    "import cv2\n",
    "import albumentations as A\n",
    "from concurrent.futures import ProcessPoolExecutor\n",
    "\n",
    "# --- Configuration ---\n",
    "BASE_PATH = \"./data/cleaned/\"\n",
    "SOURCE_DIR = BASE_PATH\n",
    "OUTPUT_DIR = './data/augmented_data'\n",
    "NUM_AUGMENTATIONS_PER_IMAGE = 10 # How many new versions to create for each original\n",
    "\n",
    "# These are good augmentations for character OCR. They are applied with some probability.\n",
    "transform = A.Compose([\n",
    "    A.Affine(\n",
    "        translate_percent=0.05,\n",
    "        scale=(0.95, 1.05),\n",
    "        rotate=(-10, 10),\n",
    "        p=0.8\n",
    "    ),\n",
    "    A.MotionBlur(blur_limit=5, p=0.5),\n",
    "    A.RandomBrightnessContrast(brightness_limit=0.2, contrast_limit=0.2, p=0.7),\n",
    "])\n",
    "\n",
    "def augment_and_save(image_filename):\n",
    "    # Create output directory if it doesn't exist\n",
    "    if not os.path.exists(OUTPUT_DIR):\n",
    "        os.makedirs(OUTPUT_DIR)\n",
    "\n",
    "    filepath = os.path.join(SOURCE_DIR, image_filename)\n",
    "    try:\n",
    "        # Read the image using OpenCV\n",
    "        image = cv2.imread(filepath, cv2.IMREAD_GRAYSCALE)\n",
    "        if image is None:\n",
    "            print(f\"Warning: Could not read {image_filename}, skipping.\")\n",
    "            return 0\n",
    "        \n",
    "        original_output_path = os.path.join(OUTPUT_DIR, image_filename)\n",
    "        os.makedirs(os.path.dirname(original_output_path), exist_ok=True)\n",
    "        cv2.imwrite(original_output_path, image)\n",
    "\n",
    "        # Generate and save augmented images\n",
    "        saved_count = 1\n",
    "        base_filename = os.path.splitext(image_filename)[0]\n",
    "        \n",
    "        for i in range(NUM_AUGMENTATIONS_PER_IMAGE):\n",
    "            augmented = transform(image=image)\n",
    "            augmented_image = augmented['image']\n",
    "\n",
    "            new_filename = f\"{base_filename}_aug_{i}.png\"\n",
    "            output_path = os.path.join(OUTPUT_DIR, new_filename)\n",
    "            \n",
    "            # Create subdirectory if it doesn't exist\n",
    "            os.makedirs(os.path.dirname(output_path), exist_ok=True)\n",
    "            \n",
    "            cv2.imwrite(output_path, augmented_image)\n",
    "            saved_count += 1\n",
    "        return saved_count\n",
    "    except Exception as e:\n",
    "        print(f\"Error processing {image_filename}: {e}\")\n",
    "        return 0\n"
   ]
  },
  {
   "cell_type": "code",
   "execution_count": null,
   "metadata": {},
   "outputs": [],
   "source": [
    "\n",
    "folders = [entry.name for entry in os.scandir(BASE_PATH)]\n",
    "\n",
    "for folder_name in folders:\n",
    "  print(folder_name)\n",
    "\n",
    "  image_files = [f\"{folder_name}/{f}\" for f in os.listdir(SOURCE_DIR+folder_name) if f.endswith(('.png'))]\n",
    "\n",
    "  # Use ProcessPoolExecutor to run augmentations on all available CPU cores\n",
    "  with ProcessPoolExecutor() as executor:\n",
    "      results = executor.map(augment_and_save, image_files)\n",
    "\n",
    "  # total_saved = sum(results)\n",
    "  # print(f\"\\nGenerated a total of {total_saved} augmented images for class\")"
   ]
  },
  {
   "cell_type": "markdown",
   "metadata": {},
   "source": [
    "#### Applying the same preprocessing to eval data"
   ]
  },
  {
   "cell_type": "code",
   "execution_count": 19,
   "metadata": {},
   "outputs": [
    {
     "name": "stdout",
     "output_type": "stream",
     "text": [
      "Found 10650 evaluation images to process. Starting...\n"
     ]
    },
    {
     "name": "stderr",
     "output_type": "stream",
     "text": [
      "100%|██████████| 10650/10650 [00:04<00:00, 2338.85it/s]\n"
     ]
    },
    {
     "name": "stdout",
     "output_type": "stream",
     "text": [
      "\n",
      "✅ Done! Successfully processed and saved 10650 images to ./data/processed_eval/\n"
     ]
    }
   ],
   "source": [
    "import os\n",
    "import cv2\n",
    "from concurrent.futures import ProcessPoolExecutor\n",
    "from tqdm import tqdm\n",
    "\n",
    "# --- Configuration ---\n",
    "SOURCE_DIR = './data/eval/'\n",
    "OUTPUT_DIR = './data/processed_eval/'\n",
    "NEW_SIZE = (40, 30)  # Must be the same size as your training images (width, height)\n",
    "\n",
    "# --- 1. Function to process a single image ---\n",
    "def process_image(relative_path):\n",
    "    \"\"\"\n",
    "    Reads, resizes, and applies Otsu's thresholding to a single image.\n",
    "    \"\"\"\n",
    "    try:\n",
    "        # Construct full input and output paths\n",
    "        full_input_path = os.path.join(SOURCE_DIR, relative_path)\n",
    "        full_output_path = os.path.join(OUTPUT_DIR, relative_path)\n",
    "\n",
    "        # Create the destination subdirectory if it doesn't exist\n",
    "        os.makedirs(os.path.dirname(full_output_path), exist_ok=True)\n",
    "\n",
    "        # Read the image in grayscale\n",
    "        image = cv2.imread(full_input_path, cv2.IMREAD_GRAYSCALE)\n",
    "        if image is None:\n",
    "            return 0  # Skip if image can't be read\n",
    "\n",
    "        # STEP 1: Resize the image\n",
    "        resized_image = cv2.resize(image, NEW_SIZE, interpolation=cv2.INTER_AREA)\n",
    "\n",
    "        # STEP 2: Apply Otsu's Thresholding\n",
    "        processed_image = cv2.threshold(resized_image, 0, 255, cv2.THRESH_BINARY_INV + cv2.THRESH_OTSU)[1]\n",
    "\n",
    "        # Save the final processed image\n",
    "        cv2.imwrite(full_output_path, processed_image)\n",
    "        return 1  # Return 1 for success\n",
    "    except Exception as e:\n",
    "        print(f\"Error processing {relative_path}: {e}\")\n",
    "        return 0\n",
    "\n",
    "# --- 2. Main execution block ---\n",
    "if __name__ == \"__main__\":\n",
    "    # Find all image files to process\n",
    "    all_image_paths = []\n",
    "    for root, _, files in os.walk(SOURCE_DIR):\n",
    "        for file in files:\n",
    "            if file.lower().endswith(('.png', '.jpg', '.jpeg')):\n",
    "                relative_path = os.path.relpath(os.path.join(root, file), SOURCE_DIR)\n",
    "                all_image_paths.append(relative_path)\n",
    "\n",
    "    if not all_image_paths:\n",
    "        print(f\"No images found in {SOURCE_DIR}. Please check the path.\")\n",
    "    else:\n",
    "        print(f\"Found {len(all_image_paths)} evaluation images to process. Starting...\")\n",
    "\n",
    "        # Use ProcessPoolExecutor to run on all available CPU cores\n",
    "        with ProcessPoolExecutor() as executor:\n",
    "            results = list(tqdm(executor.map(process_image, all_image_paths), total=len(all_image_paths)))\n",
    "\n",
    "        total_processed = sum(results)\n",
    "        print(f\"\\n✅ Done! Successfully processed and saved {total_processed} images to {OUTPUT_DIR}\")"
   ]
  },
  {
   "cell_type": "markdown",
   "metadata": {},
   "source": [
    "#### Data formatting for training and eval"
   ]
  },
  {
   "cell_type": "code",
   "execution_count": 21,
   "metadata": {},
   "outputs": [
    {
     "name": "stdout",
     "output_type": "stream",
     "text": [
      "Found 251471 files belonging to 35 classes.\n",
      "Found 10650 files belonging to 35 classes.\n",
      "✅ Found 35 classes: ['0', '1', '2', '3', '4', '5', '6', '7', '8', '9', 'A', 'B', 'C', 'D', 'E', 'F', 'G', 'H', 'I', 'J', 'K', 'L', 'M', 'N', 'P', 'Q', 'R', 'S', 'T', 'U', 'V', 'W', 'X', 'Y', 'Z']\n",
      "✅ Data preparation complete and optimized.\n"
     ]
    }
   ],
   "source": [
    "import tensorflow as tf\n",
    "\n",
    "# --- Configuration ---\n",
    "BATCH_SIZE = 32\n",
    "IMG_HEIGHT = 30\n",
    "IMG_WIDTH = 40\n",
    "IMG_SHAPE = (IMG_HEIGHT, IMG_WIDTH)\n",
    "\n",
    "# --- Define paths ---\n",
    "caminho_train = 'data/augmented_data'\n",
    "caminho_eval = 'data/processed_eval'\n",
    "\n",
    "# --- Load Training and Validation Data ---\n",
    "train_ds = tf.keras.utils.image_dataset_from_directory(\n",
    "    caminho_train,\n",
    "    labels='inferred',\n",
    "    label_mode='int',\n",
    "    color_mode='grayscale',\n",
    "    image_size=IMG_SHAPE,\n",
    "    batch_size=BATCH_SIZE,\n",
    "    shuffle=True,\n",
    "    seed=123\n",
    ")\n",
    "\n",
    "val_ds = tf.keras.utils.image_dataset_from_directory(\n",
    "    caminho_eval,\n",
    "    labels='inferred',\n",
    "    label_mode='int',\n",
    "    color_mode='grayscale',\n",
    "    image_size=IMG_SHAPE,\n",
    "    batch_size=BATCH_SIZE,\n",
    "    shuffle=False\n",
    ")\n",
    "\n",
    "# --- THE FIX: Get class_names BEFORE you modify the dataset ---\n",
    "class_names = train_ds.class_names\n",
    "print(f\"✅ Found {len(class_names)} classes: {class_names}\")\n",
    "# -------------------------------------------------------------\n",
    "\n",
    "# --- Normalize and Optimize ---\n",
    "normalization_layer = tf.keras.layers.Rescaling(1./255)\n",
    "train_ds = train_ds.map(lambda x, y: (normalization_layer(x), y), num_parallel_calls=tf.data.AUTOTUNE)\n",
    "val_ds = val_ds.map(lambda x, y: (normalization_layer(x), y), num_parallel_calls=tf.data.AUTOTUNE)\n",
    "\n",
    "AUTOTUNE = tf.data.AUTOTUNE\n",
    "train_ds = train_ds.cache().prefetch(buffer_size=AUTOTUNE)\n",
    "val_ds = val_ds.cache().prefetch(buffer_size=AUTOTUNE)\n",
    "\n",
    "print(\"✅ Data preparation complete and optimized.\")"
   ]
  },
  {
   "cell_type": "markdown",
   "metadata": {},
   "source": [
    "### Model construction, training and eval"
   ]
  },
  {
   "cell_type": "markdown",
   "metadata": {},
   "source": [
    "#### modular CNN function"
   ]
  },
  {
   "cell_type": "code",
   "execution_count": 22,
   "metadata": {
    "id": "I72w6YnovPpJ"
   },
   "outputs": [],
   "source": [
    "import tensorflow as tf\n",
    "from tensorflow.keras.models import Sequential\n",
    "from tensorflow.keras.layers import Conv2D, MaxPooling2D, Flatten, Dense, BatchNormalization, Dropout\n",
    "\n",
    "def create_model(input_shape, num_classes, filters_per_layer=[32, 64], dense_units=128):\n",
    "    \"\"\"Creates a flexible CNN model.\"\"\"\n",
    "    \n",
    "    model = Sequential()\n",
    "    model.add(tf.keras.Input(shape=input_shape))\n",
    "\n",
    "    # Convolutional blocks\n",
    "    for filters in filters_per_layer:\n",
    "        model.add(Conv2D(filters, kernel_size=(3, 3), activation='relu', padding='same'))\n",
    "        model.add(BatchNormalization())\n",
    "        model.add(MaxPooling2D(pool_size=(2, 2)))\n",
    "\n",
    "    # Classifier head\n",
    "    model.add(Flatten())\n",
    "    model.add(Dense(dense_units, activation='relu'))\n",
    "    model.add(BatchNormalization())\n",
    "    model.add(Dropout(0.5)) # Dropout is a key regularizer\n",
    "    model.add(Dense(num_classes, activation='softmax', dtype='float32')) # Output layer\n",
    "\n",
    "    return model"
   ]
  },
  {
   "cell_type": "markdown",
   "metadata": {},
   "source": [
    "#### Training"
   ]
  },
  {
   "cell_type": "code",
   "execution_count": 23,
   "metadata": {
    "id": "8qJQ0Et1vXwk"
   },
   "outputs": [
    {
     "name": "stdout",
     "output_type": "stream",
     "text": [
      "\n",
      "--- Running Experiment: lr_1e-3 ---\n"
     ]
    },
    {
     "data": {
      "text/html": [
       "<pre style=\"white-space:pre;overflow-x:auto;line-height:normal;font-family:Menlo,'DejaVu Sans Mono',consolas,'Courier New',monospace\"><span style=\"font-weight: bold\">Model: \"sequential\"</span>\n",
       "</pre>\n"
      ],
      "text/plain": [
       "\u001b[1mModel: \"sequential\"\u001b[0m\n"
      ]
     },
     "metadata": {},
     "output_type": "display_data"
    },
    {
     "data": {
      "text/html": [
       "<pre style=\"white-space:pre;overflow-x:auto;line-height:normal;font-family:Menlo,'DejaVu Sans Mono',consolas,'Courier New',monospace\">┏━━━━━━━━━━━━━━━━━━━━━━━━━━━━━━━━━┳━━━━━━━━━━━━━━━━━━━━━━━━┳━━━━━━━━━━━━━━━┓\n",
       "┃<span style=\"font-weight: bold\"> Layer (type)                    </span>┃<span style=\"font-weight: bold\"> Output Shape           </span>┃<span style=\"font-weight: bold\">       Param # </span>┃\n",
       "┡━━━━━━━━━━━━━━━━━━━━━━━━━━━━━━━━━╇━━━━━━━━━━━━━━━━━━━━━━━━╇━━━━━━━━━━━━━━━┩\n",
       "│ conv2d (<span style=\"color: #0087ff; text-decoration-color: #0087ff\">Conv2D</span>)                 │ (<span style=\"color: #00d7ff; text-decoration-color: #00d7ff\">None</span>, <span style=\"color: #00af00; text-decoration-color: #00af00\">30</span>, <span style=\"color: #00af00; text-decoration-color: #00af00\">40</span>, <span style=\"color: #00af00; text-decoration-color: #00af00\">32</span>)     │           <span style=\"color: #00af00; text-decoration-color: #00af00\">320</span> │\n",
       "├─────────────────────────────────┼────────────────────────┼───────────────┤\n",
       "│ batch_normalization             │ (<span style=\"color: #00d7ff; text-decoration-color: #00d7ff\">None</span>, <span style=\"color: #00af00; text-decoration-color: #00af00\">30</span>, <span style=\"color: #00af00; text-decoration-color: #00af00\">40</span>, <span style=\"color: #00af00; text-decoration-color: #00af00\">32</span>)     │           <span style=\"color: #00af00; text-decoration-color: #00af00\">128</span> │\n",
       "│ (<span style=\"color: #0087ff; text-decoration-color: #0087ff\">BatchNormalization</span>)            │                        │               │\n",
       "├─────────────────────────────────┼────────────────────────┼───────────────┤\n",
       "│ max_pooling2d (<span style=\"color: #0087ff; text-decoration-color: #0087ff\">MaxPooling2D</span>)    │ (<span style=\"color: #00d7ff; text-decoration-color: #00d7ff\">None</span>, <span style=\"color: #00af00; text-decoration-color: #00af00\">15</span>, <span style=\"color: #00af00; text-decoration-color: #00af00\">20</span>, <span style=\"color: #00af00; text-decoration-color: #00af00\">32</span>)     │             <span style=\"color: #00af00; text-decoration-color: #00af00\">0</span> │\n",
       "├─────────────────────────────────┼────────────────────────┼───────────────┤\n",
       "│ conv2d_1 (<span style=\"color: #0087ff; text-decoration-color: #0087ff\">Conv2D</span>)               │ (<span style=\"color: #00d7ff; text-decoration-color: #00d7ff\">None</span>, <span style=\"color: #00af00; text-decoration-color: #00af00\">15</span>, <span style=\"color: #00af00; text-decoration-color: #00af00\">20</span>, <span style=\"color: #00af00; text-decoration-color: #00af00\">64</span>)     │        <span style=\"color: #00af00; text-decoration-color: #00af00\">18,496</span> │\n",
       "├─────────────────────────────────┼────────────────────────┼───────────────┤\n",
       "│ batch_normalization_1           │ (<span style=\"color: #00d7ff; text-decoration-color: #00d7ff\">None</span>, <span style=\"color: #00af00; text-decoration-color: #00af00\">15</span>, <span style=\"color: #00af00; text-decoration-color: #00af00\">20</span>, <span style=\"color: #00af00; text-decoration-color: #00af00\">64</span>)     │           <span style=\"color: #00af00; text-decoration-color: #00af00\">256</span> │\n",
       "│ (<span style=\"color: #0087ff; text-decoration-color: #0087ff\">BatchNormalization</span>)            │                        │               │\n",
       "├─────────────────────────────────┼────────────────────────┼───────────────┤\n",
       "│ max_pooling2d_1 (<span style=\"color: #0087ff; text-decoration-color: #0087ff\">MaxPooling2D</span>)  │ (<span style=\"color: #00d7ff; text-decoration-color: #00d7ff\">None</span>, <span style=\"color: #00af00; text-decoration-color: #00af00\">7</span>, <span style=\"color: #00af00; text-decoration-color: #00af00\">10</span>, <span style=\"color: #00af00; text-decoration-color: #00af00\">64</span>)      │             <span style=\"color: #00af00; text-decoration-color: #00af00\">0</span> │\n",
       "├─────────────────────────────────┼────────────────────────┼───────────────┤\n",
       "│ flatten (<span style=\"color: #0087ff; text-decoration-color: #0087ff\">Flatten</span>)               │ (<span style=\"color: #00d7ff; text-decoration-color: #00d7ff\">None</span>, <span style=\"color: #00af00; text-decoration-color: #00af00\">4480</span>)           │             <span style=\"color: #00af00; text-decoration-color: #00af00\">0</span> │\n",
       "├─────────────────────────────────┼────────────────────────┼───────────────┤\n",
       "│ dense (<span style=\"color: #0087ff; text-decoration-color: #0087ff\">Dense</span>)                   │ (<span style=\"color: #00d7ff; text-decoration-color: #00d7ff\">None</span>, <span style=\"color: #00af00; text-decoration-color: #00af00\">128</span>)            │       <span style=\"color: #00af00; text-decoration-color: #00af00\">573,568</span> │\n",
       "├─────────────────────────────────┼────────────────────────┼───────────────┤\n",
       "│ batch_normalization_2           │ (<span style=\"color: #00d7ff; text-decoration-color: #00d7ff\">None</span>, <span style=\"color: #00af00; text-decoration-color: #00af00\">128</span>)            │           <span style=\"color: #00af00; text-decoration-color: #00af00\">512</span> │\n",
       "│ (<span style=\"color: #0087ff; text-decoration-color: #0087ff\">BatchNormalization</span>)            │                        │               │\n",
       "├─────────────────────────────────┼────────────────────────┼───────────────┤\n",
       "│ dropout (<span style=\"color: #0087ff; text-decoration-color: #0087ff\">Dropout</span>)               │ (<span style=\"color: #00d7ff; text-decoration-color: #00d7ff\">None</span>, <span style=\"color: #00af00; text-decoration-color: #00af00\">128</span>)            │             <span style=\"color: #00af00; text-decoration-color: #00af00\">0</span> │\n",
       "├─────────────────────────────────┼────────────────────────┼───────────────┤\n",
       "│ dense_1 (<span style=\"color: #0087ff; text-decoration-color: #0087ff\">Dense</span>)                 │ (<span style=\"color: #00d7ff; text-decoration-color: #00d7ff\">None</span>, <span style=\"color: #00af00; text-decoration-color: #00af00\">35</span>)             │         <span style=\"color: #00af00; text-decoration-color: #00af00\">4,515</span> │\n",
       "└─────────────────────────────────┴────────────────────────┴───────────────┘\n",
       "</pre>\n"
      ],
      "text/plain": [
       "┏━━━━━━━━━━━━━━━━━━━━━━━━━━━━━━━━━┳━━━━━━━━━━━━━━━━━━━━━━━━┳━━━━━━━━━━━━━━━┓\n",
       "┃\u001b[1m \u001b[0m\u001b[1mLayer (type)                   \u001b[0m\u001b[1m \u001b[0m┃\u001b[1m \u001b[0m\u001b[1mOutput Shape          \u001b[0m\u001b[1m \u001b[0m┃\u001b[1m \u001b[0m\u001b[1m      Param #\u001b[0m\u001b[1m \u001b[0m┃\n",
       "┡━━━━━━━━━━━━━━━━━━━━━━━━━━━━━━━━━╇━━━━━━━━━━━━━━━━━━━━━━━━╇━━━━━━━━━━━━━━━┩\n",
       "│ conv2d (\u001b[38;5;33mConv2D\u001b[0m)                 │ (\u001b[38;5;45mNone\u001b[0m, \u001b[38;5;34m30\u001b[0m, \u001b[38;5;34m40\u001b[0m, \u001b[38;5;34m32\u001b[0m)     │           \u001b[38;5;34m320\u001b[0m │\n",
       "├─────────────────────────────────┼────────────────────────┼───────────────┤\n",
       "│ batch_normalization             │ (\u001b[38;5;45mNone\u001b[0m, \u001b[38;5;34m30\u001b[0m, \u001b[38;5;34m40\u001b[0m, \u001b[38;5;34m32\u001b[0m)     │           \u001b[38;5;34m128\u001b[0m │\n",
       "│ (\u001b[38;5;33mBatchNormalization\u001b[0m)            │                        │               │\n",
       "├─────────────────────────────────┼────────────────────────┼───────────────┤\n",
       "│ max_pooling2d (\u001b[38;5;33mMaxPooling2D\u001b[0m)    │ (\u001b[38;5;45mNone\u001b[0m, \u001b[38;5;34m15\u001b[0m, \u001b[38;5;34m20\u001b[0m, \u001b[38;5;34m32\u001b[0m)     │             \u001b[38;5;34m0\u001b[0m │\n",
       "├─────────────────────────────────┼────────────────────────┼───────────────┤\n",
       "│ conv2d_1 (\u001b[38;5;33mConv2D\u001b[0m)               │ (\u001b[38;5;45mNone\u001b[0m, \u001b[38;5;34m15\u001b[0m, \u001b[38;5;34m20\u001b[0m, \u001b[38;5;34m64\u001b[0m)     │        \u001b[38;5;34m18,496\u001b[0m │\n",
       "├─────────────────────────────────┼────────────────────────┼───────────────┤\n",
       "│ batch_normalization_1           │ (\u001b[38;5;45mNone\u001b[0m, \u001b[38;5;34m15\u001b[0m, \u001b[38;5;34m20\u001b[0m, \u001b[38;5;34m64\u001b[0m)     │           \u001b[38;5;34m256\u001b[0m │\n",
       "│ (\u001b[38;5;33mBatchNormalization\u001b[0m)            │                        │               │\n",
       "├─────────────────────────────────┼────────────────────────┼───────────────┤\n",
       "│ max_pooling2d_1 (\u001b[38;5;33mMaxPooling2D\u001b[0m)  │ (\u001b[38;5;45mNone\u001b[0m, \u001b[38;5;34m7\u001b[0m, \u001b[38;5;34m10\u001b[0m, \u001b[38;5;34m64\u001b[0m)      │             \u001b[38;5;34m0\u001b[0m │\n",
       "├─────────────────────────────────┼────────────────────────┼───────────────┤\n",
       "│ flatten (\u001b[38;5;33mFlatten\u001b[0m)               │ (\u001b[38;5;45mNone\u001b[0m, \u001b[38;5;34m4480\u001b[0m)           │             \u001b[38;5;34m0\u001b[0m │\n",
       "├─────────────────────────────────┼────────────────────────┼───────────────┤\n",
       "│ dense (\u001b[38;5;33mDense\u001b[0m)                   │ (\u001b[38;5;45mNone\u001b[0m, \u001b[38;5;34m128\u001b[0m)            │       \u001b[38;5;34m573,568\u001b[0m │\n",
       "├─────────────────────────────────┼────────────────────────┼───────────────┤\n",
       "│ batch_normalization_2           │ (\u001b[38;5;45mNone\u001b[0m, \u001b[38;5;34m128\u001b[0m)            │           \u001b[38;5;34m512\u001b[0m │\n",
       "│ (\u001b[38;5;33mBatchNormalization\u001b[0m)            │                        │               │\n",
       "├─────────────────────────────────┼────────────────────────┼───────────────┤\n",
       "│ dropout (\u001b[38;5;33mDropout\u001b[0m)               │ (\u001b[38;5;45mNone\u001b[0m, \u001b[38;5;34m128\u001b[0m)            │             \u001b[38;5;34m0\u001b[0m │\n",
       "├─────────────────────────────────┼────────────────────────┼───────────────┤\n",
       "│ dense_1 (\u001b[38;5;33mDense\u001b[0m)                 │ (\u001b[38;5;45mNone\u001b[0m, \u001b[38;5;34m35\u001b[0m)             │         \u001b[38;5;34m4,515\u001b[0m │\n",
       "└─────────────────────────────────┴────────────────────────┴───────────────┘\n"
      ]
     },
     "metadata": {},
     "output_type": "display_data"
    },
    {
     "data": {
      "text/html": [
       "<pre style=\"white-space:pre;overflow-x:auto;line-height:normal;font-family:Menlo,'DejaVu Sans Mono',consolas,'Courier New',monospace\"><span style=\"font-weight: bold\"> Total params: </span><span style=\"color: #00af00; text-decoration-color: #00af00\">597,795</span> (2.28 MB)\n",
       "</pre>\n"
      ],
      "text/plain": [
       "\u001b[1m Total params: \u001b[0m\u001b[38;5;34m597,795\u001b[0m (2.28 MB)\n"
      ]
     },
     "metadata": {},
     "output_type": "display_data"
    },
    {
     "data": {
      "text/html": [
       "<pre style=\"white-space:pre;overflow-x:auto;line-height:normal;font-family:Menlo,'DejaVu Sans Mono',consolas,'Courier New',monospace\"><span style=\"font-weight: bold\"> Trainable params: </span><span style=\"color: #00af00; text-decoration-color: #00af00\">597,347</span> (2.28 MB)\n",
       "</pre>\n"
      ],
      "text/plain": [
       "\u001b[1m Trainable params: \u001b[0m\u001b[38;5;34m597,347\u001b[0m (2.28 MB)\n"
      ]
     },
     "metadata": {},
     "output_type": "display_data"
    },
    {
     "data": {
      "text/html": [
       "<pre style=\"white-space:pre;overflow-x:auto;line-height:normal;font-family:Menlo,'DejaVu Sans Mono',consolas,'Courier New',monospace\"><span style=\"font-weight: bold\"> Non-trainable params: </span><span style=\"color: #00af00; text-decoration-color: #00af00\">448</span> (1.75 KB)\n",
       "</pre>\n"
      ],
      "text/plain": [
       "\u001b[1m Non-trainable params: \u001b[0m\u001b[38;5;34m448\u001b[0m (1.75 KB)\n"
      ]
     },
     "metadata": {},
     "output_type": "display_data"
    },
    {
     "name": "stdout",
     "output_type": "stream",
     "text": [
      "Epoch 1/100\n",
      "\u001b[1m   1/7859\u001b[0m \u001b[37m━━━━━━━━━━━━━━━━━━━━\u001b[0m \u001b[1m14:17:32\u001b[0m 7s/step - accuracy: 0.0000e+00 - loss: 4.8070"
     ]
    },
    {
     "name": "stderr",
     "output_type": "stream",
     "text": [
      "2025-07-31 04:14:15.750580: W external/local_xla/xla/tsl/framework/cpu_allocator_impl.cc:83] Allocation of 22118400 exceeds 10% of free system memory.\n",
      "2025-07-31 04:14:15.750839: W external/local_xla/xla/tsl/framework/cpu_allocator_impl.cc:83] Allocation of 22118400 exceeds 10% of free system memory.\n"
     ]
    },
    {
     "name": "stdout",
     "output_type": "stream",
     "text": [
      "\u001b[1m   2/7859\u001b[0m \u001b[37m━━━━━━━━━━━━━━━━━━━━\u001b[0m \u001b[1m21:38\u001b[0m 165ms/step - accuracy: 0.0078 - loss: 4.6635    "
     ]
    },
    {
     "name": "stderr",
     "output_type": "stream",
     "text": [
      "2025-07-31 04:14:16.012570: W external/local_xla/xla/tsl/framework/cpu_allocator_impl.cc:83] Allocation of 22118400 exceeds 10% of free system memory.\n",
      "2025-07-31 04:14:16.023301: W external/local_xla/xla/tsl/framework/cpu_allocator_impl.cc:83] Allocation of 22118400 exceeds 10% of free system memory.\n",
      "2025-07-31 04:14:16.191650: W external/local_xla/xla/tsl/framework/cpu_allocator_impl.cc:83] Allocation of 22118400 exceeds 10% of free system memory.\n"
     ]
    },
    {
     "name": "stdout",
     "output_type": "stream",
     "text": [
      "\u001b[1m1296/7859\u001b[0m \u001b[32m━━━\u001b[0m\u001b[37m━━━━━━━━━━━━━━━━━\u001b[0m \u001b[1m12:49\u001b[0m 117ms/step - accuracy: 0.7937 - loss: 0.7886"
     ]
    },
    {
     "ename": "KeyboardInterrupt",
     "evalue": "",
     "output_type": "error",
     "traceback": [
      "\u001b[31m---------------------------------------------------------------------------\u001b[39m",
      "\u001b[31mKeyboardInterrupt\u001b[39m                         Traceback (most recent call last)",
      "\u001b[36mCell\u001b[39m\u001b[36m \u001b[39m\u001b[32mIn[23]\u001b[39m\u001b[32m, line 37\u001b[39m\n\u001b[32m     29\u001b[39m os.makedirs(os.path.dirname(model_path), exist_ok=\u001b[38;5;28;01mTrue\u001b[39;00m)\n\u001b[32m     31\u001b[39m callbacks = [\n\u001b[32m     32\u001b[39m     TensorBoard(log_dir=log_dir),\n\u001b[32m     33\u001b[39m     ModelCheckpoint(filepath=model_path, save_best_only=\u001b[38;5;28;01mTrue\u001b[39;00m, monitor=\u001b[33m'\u001b[39m\u001b[33mval_accuracy\u001b[39m\u001b[33m'\u001b[39m, mode=\u001b[33m'\u001b[39m\u001b[33mmax\u001b[39m\u001b[33m'\u001b[39m),\n\u001b[32m     34\u001b[39m     EarlyStopping(monitor=\u001b[33m'\u001b[39m\u001b[33mval_accuracy\u001b[39m\u001b[33m'\u001b[39m, patience=\u001b[32m5\u001b[39m, restore_best_weights=\u001b[38;5;28;01mTrue\u001b[39;00m)\n\u001b[32m     35\u001b[39m ]\n\u001b[32m---> \u001b[39m\u001b[32m37\u001b[39m history = \u001b[43mmodel\u001b[49m\u001b[43m.\u001b[49m\u001b[43mfit\u001b[49m\u001b[43m(\u001b[49m\n\u001b[32m     38\u001b[39m \u001b[43m    \u001b[49m\u001b[43mtrain_ds\u001b[49m\u001b[43m,\u001b[49m\n\u001b[32m     39\u001b[39m \u001b[43m    \u001b[49m\u001b[43mepochs\u001b[49m\u001b[43m=\u001b[49m\u001b[32;43m100\u001b[39;49m\u001b[43m,\u001b[49m\u001b[43m \u001b[49m\u001b[38;5;66;43;03m# Set high, EarlyStopping will handle it\u001b[39;49;00m\n\u001b[32m     40\u001b[39m \u001b[43m    \u001b[49m\u001b[43mvalidation_data\u001b[49m\u001b[43m=\u001b[49m\u001b[43mval_ds\u001b[49m\u001b[43m,\u001b[49m\n\u001b[32m     41\u001b[39m \u001b[43m    \u001b[49m\u001b[43mcallbacks\u001b[49m\u001b[43m=\u001b[49m\u001b[43mcallbacks\u001b[49m\n\u001b[32m     42\u001b[39m \u001b[43m\u001b[49m\u001b[43m)\u001b[49m\n",
      "\u001b[36mFile \u001b[39m\u001b[32m~/Desktop/Code/alpr/venv/lib/python3.12/site-packages/keras/src/utils/traceback_utils.py:117\u001b[39m, in \u001b[36mfilter_traceback.<locals>.error_handler\u001b[39m\u001b[34m(*args, **kwargs)\u001b[39m\n\u001b[32m    115\u001b[39m filtered_tb = \u001b[38;5;28;01mNone\u001b[39;00m\n\u001b[32m    116\u001b[39m \u001b[38;5;28;01mtry\u001b[39;00m:\n\u001b[32m--> \u001b[39m\u001b[32m117\u001b[39m     \u001b[38;5;28;01mreturn\u001b[39;00m \u001b[43mfn\u001b[49m\u001b[43m(\u001b[49m\u001b[43m*\u001b[49m\u001b[43margs\u001b[49m\u001b[43m,\u001b[49m\u001b[43m \u001b[49m\u001b[43m*\u001b[49m\u001b[43m*\u001b[49m\u001b[43mkwargs\u001b[49m\u001b[43m)\u001b[49m\n\u001b[32m    118\u001b[39m \u001b[38;5;28;01mexcept\u001b[39;00m \u001b[38;5;167;01mException\u001b[39;00m \u001b[38;5;28;01mas\u001b[39;00m e:\n\u001b[32m    119\u001b[39m     filtered_tb = _process_traceback_frames(e.__traceback__)\n",
      "\u001b[36mFile \u001b[39m\u001b[32m~/Desktop/Code/alpr/venv/lib/python3.12/site-packages/keras/src/backend/tensorflow/trainer.py:378\u001b[39m, in \u001b[36mTensorFlowTrainer.fit\u001b[39m\u001b[34m(self, x, y, batch_size, epochs, verbose, callbacks, validation_split, validation_data, shuffle, class_weight, sample_weight, initial_epoch, steps_per_epoch, validation_steps, validation_batch_size, validation_freq)\u001b[39m\n\u001b[32m    376\u001b[39m callbacks.on_train_batch_begin(begin_step)\n\u001b[32m    377\u001b[39m logs = \u001b[38;5;28mself\u001b[39m.train_function(iterator)\n\u001b[32m--> \u001b[39m\u001b[32m378\u001b[39m \u001b[43mcallbacks\u001b[49m\u001b[43m.\u001b[49m\u001b[43mon_train_batch_end\u001b[49m\u001b[43m(\u001b[49m\u001b[43mend_step\u001b[49m\u001b[43m,\u001b[49m\u001b[43m \u001b[49m\u001b[43mlogs\u001b[49m\u001b[43m)\u001b[49m\n\u001b[32m    379\u001b[39m \u001b[38;5;28;01mif\u001b[39;00m \u001b[38;5;28mself\u001b[39m.stop_training:\n\u001b[32m    380\u001b[39m     \u001b[38;5;28;01mbreak\u001b[39;00m\n",
      "\u001b[36mFile \u001b[39m\u001b[32m~/Desktop/Code/alpr/venv/lib/python3.12/site-packages/keras/src/callbacks/callback_list.py:172\u001b[39m, in \u001b[36mCallbackList.on_train_batch_end\u001b[39m\u001b[34m(self, batch, logs)\u001b[39m\n\u001b[32m    170\u001b[39m     \u001b[38;5;28mself\u001b[39m._async_dispatch(\u001b[38;5;28mself\u001b[39m._on_train_batch_end, batch, logs)\n\u001b[32m    171\u001b[39m \u001b[38;5;28;01melse\u001b[39;00m:\n\u001b[32m--> \u001b[39m\u001b[32m172\u001b[39m     \u001b[38;5;28;43mself\u001b[39;49m\u001b[43m.\u001b[49m\u001b[43m_on_train_batch_end\u001b[49m\u001b[43m(\u001b[49m\u001b[43mbatch\u001b[49m\u001b[43m,\u001b[49m\u001b[43m \u001b[49m\u001b[43mlogs\u001b[49m\u001b[43m)\u001b[49m\n",
      "\u001b[36mFile \u001b[39m\u001b[32m~/Desktop/Code/alpr/venv/lib/python3.12/site-packages/keras/src/callbacks/callback_list.py:194\u001b[39m, in \u001b[36mCallbackList._on_train_batch_end\u001b[39m\u001b[34m(self, batch, logs)\u001b[39m\n\u001b[32m    192\u001b[39m logs = python_utils.pythonify_logs(logs)\n\u001b[32m    193\u001b[39m \u001b[38;5;28;01mfor\u001b[39;00m callback \u001b[38;5;129;01min\u001b[39;00m \u001b[38;5;28mself\u001b[39m.callbacks:\n\u001b[32m--> \u001b[39m\u001b[32m194\u001b[39m     \u001b[43mcallback\u001b[49m\u001b[43m.\u001b[49m\u001b[43mon_train_batch_end\u001b[49m\u001b[43m(\u001b[49m\u001b[43mbatch\u001b[49m\u001b[43m,\u001b[49m\u001b[43m \u001b[49m\u001b[43mlogs\u001b[49m\u001b[43m=\u001b[49m\u001b[43mlogs\u001b[49m\u001b[43m)\u001b[49m\n",
      "\u001b[36mFile \u001b[39m\u001b[32m~/Desktop/Code/alpr/venv/lib/python3.12/site-packages/keras/src/callbacks/progbar_logger.py:58\u001b[39m, in \u001b[36mProgbarLogger.on_train_batch_end\u001b[39m\u001b[34m(self, batch, logs)\u001b[39m\n\u001b[32m     57\u001b[39m \u001b[38;5;28;01mdef\u001b[39;00m\u001b[38;5;250m \u001b[39m\u001b[34mon_train_batch_end\u001b[39m(\u001b[38;5;28mself\u001b[39m, batch, logs=\u001b[38;5;28;01mNone\u001b[39;00m):\n\u001b[32m---> \u001b[39m\u001b[32m58\u001b[39m     \u001b[38;5;28;43mself\u001b[39;49m\u001b[43m.\u001b[49m\u001b[43m_update_progbar\u001b[49m\u001b[43m(\u001b[49m\u001b[43mbatch\u001b[49m\u001b[43m,\u001b[49m\u001b[43m \u001b[49m\u001b[43mlogs\u001b[49m\u001b[43m)\u001b[49m\n",
      "\u001b[36mFile \u001b[39m\u001b[32m~/Desktop/Code/alpr/venv/lib/python3.12/site-packages/keras/src/callbacks/progbar_logger.py:95\u001b[39m, in \u001b[36mProgbarLogger._update_progbar\u001b[39m\u001b[34m(self, batch, logs)\u001b[39m\n\u001b[32m     92\u001b[39m \u001b[38;5;28mself\u001b[39m.seen = batch + \u001b[32m1\u001b[39m  \u001b[38;5;66;03m# One-indexed.\u001b[39;00m\n\u001b[32m     94\u001b[39m \u001b[38;5;28;01mif\u001b[39;00m \u001b[38;5;28mself\u001b[39m.verbose == \u001b[32m1\u001b[39m:\n\u001b[32m---> \u001b[39m\u001b[32m95\u001b[39m     \u001b[38;5;28;43mself\u001b[39;49m\u001b[43m.\u001b[49m\u001b[43mprogbar\u001b[49m\u001b[43m.\u001b[49m\u001b[43mupdate\u001b[49m\u001b[43m(\u001b[49m\u001b[38;5;28;43mself\u001b[39;49m\u001b[43m.\u001b[49m\u001b[43mseen\u001b[49m\u001b[43m,\u001b[49m\u001b[43m \u001b[49m\u001b[38;5;28;43mlist\u001b[39;49m\u001b[43m(\u001b[49m\u001b[43mlogs\u001b[49m\u001b[43m.\u001b[49m\u001b[43mitems\u001b[49m\u001b[43m(\u001b[49m\u001b[43m)\u001b[49m\u001b[43m)\u001b[49m\u001b[43m,\u001b[49m\u001b[43m \u001b[49m\u001b[43mfinalize\u001b[49m\u001b[43m=\u001b[49m\u001b[38;5;28;43;01mFalse\u001b[39;49;00m\u001b[43m)\u001b[49m\n",
      "\u001b[36mFile \u001b[39m\u001b[32m~/Desktop/Code/alpr/venv/lib/python3.12/site-packages/keras/src/utils/progbar.py:166\u001b[39m, in \u001b[36mProgbar.update\u001b[39m\u001b[34m(self, current, values, finalize)\u001b[39m\n\u001b[32m    163\u001b[39m info += \u001b[33mf\u001b[39m\u001b[33m\"\u001b[39m\u001b[33m - \u001b[39m\u001b[38;5;132;01m{\u001b[39;00mk\u001b[38;5;132;01m}\u001b[39;00m\u001b[33m:\u001b[39m\u001b[33m\"\u001b[39m\n\u001b[32m    164\u001b[39m \u001b[38;5;28;01mif\u001b[39;00m \u001b[38;5;28misinstance\u001b[39m(\u001b[38;5;28mself\u001b[39m._values[k], \u001b[38;5;28mlist\u001b[39m):\n\u001b[32m    165\u001b[39m     avg = backend.convert_to_numpy(\n\u001b[32m--> \u001b[39m\u001b[32m166\u001b[39m         \u001b[43mbackend\u001b[49m\u001b[43m.\u001b[49m\u001b[43mnumpy\u001b[49m\u001b[43m.\u001b[49m\u001b[43mmean\u001b[49m\u001b[43m(\u001b[49m\n\u001b[32m    167\u001b[39m \u001b[43m            \u001b[49m\u001b[38;5;28;43mself\u001b[39;49m\u001b[43m.\u001b[49m\u001b[43m_values\u001b[49m\u001b[43m[\u001b[49m\u001b[43mk\u001b[49m\u001b[43m]\u001b[49m\u001b[43m[\u001b[49m\u001b[32;43m0\u001b[39;49m\u001b[43m]\u001b[49m\u001b[43m \u001b[49m\u001b[43m/\u001b[49m\u001b[43m \u001b[49m\u001b[38;5;28;43mmax\u001b[39;49m\u001b[43m(\u001b[49m\u001b[32;43m1\u001b[39;49m\u001b[43m,\u001b[49m\u001b[43m \u001b[49m\u001b[38;5;28;43mself\u001b[39;49m\u001b[43m.\u001b[49m\u001b[43m_values\u001b[49m\u001b[43m[\u001b[49m\u001b[43mk\u001b[49m\u001b[43m]\u001b[49m\u001b[43m[\u001b[49m\u001b[32;43m1\u001b[39;49m\u001b[43m]\u001b[49m\u001b[43m)\u001b[49m\n\u001b[32m    168\u001b[39m \u001b[43m        \u001b[49m\u001b[43m)\u001b[49m\n\u001b[32m    169\u001b[39m     )\n\u001b[32m    170\u001b[39m     avg = \u001b[38;5;28mfloat\u001b[39m(avg)\n\u001b[32m    171\u001b[39m     \u001b[38;5;28;01mif\u001b[39;00m \u001b[38;5;28mabs\u001b[39m(avg) > \u001b[32m1e-3\u001b[39m:\n",
      "\u001b[36mFile \u001b[39m\u001b[32m~/Desktop/Code/alpr/venv/lib/python3.12/site-packages/keras/src/backend/tensorflow/numpy.py:717\u001b[39m, in \u001b[36mmean\u001b[39m\u001b[34m(x, axis, keepdims)\u001b[39m\n\u001b[32m    714\u001b[39m \u001b[38;5;28;01melse\u001b[39;00m:\n\u001b[32m    715\u001b[39m     result_dtype = ori_dtype\n\u001b[32m    716\u001b[39m output = tf.reduce_mean(\n\u001b[32m--> \u001b[39m\u001b[32m717\u001b[39m     \u001b[43mtf\u001b[49m\u001b[43m.\u001b[49m\u001b[43mcast\u001b[49m\u001b[43m(\u001b[49m\u001b[43mx\u001b[49m\u001b[43m,\u001b[49m\u001b[43m \u001b[49m\u001b[43mcompute_dtype\u001b[49m\u001b[43m)\u001b[49m, axis=axis, keepdims=keepdims\n\u001b[32m    718\u001b[39m )\n\u001b[32m    719\u001b[39m \u001b[38;5;28;01mreturn\u001b[39;00m tf.cast(output, result_dtype)\n",
      "\u001b[36mFile \u001b[39m\u001b[32m~/Desktop/Code/alpr/venv/lib/python3.12/site-packages/tensorflow/python/util/traceback_utils.py:138\u001b[39m, in \u001b[36mfilter_traceback.<locals>.error_handler\u001b[39m\u001b[34m(*args, **kwargs)\u001b[39m\n\u001b[32m    135\u001b[39m \u001b[38;5;28;01mif\u001b[39;00m sys.version_info.major != \u001b[32m3\u001b[39m \u001b[38;5;129;01mor\u001b[39;00m sys.version_info.minor < \u001b[32m7\u001b[39m:\n\u001b[32m    136\u001b[39m   \u001b[38;5;28;01mreturn\u001b[39;00m fn\n\u001b[32m--> \u001b[39m\u001b[32m138\u001b[39m \u001b[38;5;28;01mdef\u001b[39;00m\u001b[38;5;250m \u001b[39m\u001b[34merror_handler\u001b[39m(*args, **kwargs):\n\u001b[32m    139\u001b[39m   \u001b[38;5;28;01mtry\u001b[39;00m:\n\u001b[32m    140\u001b[39m     \u001b[38;5;28;01mif\u001b[39;00m \u001b[38;5;129;01mnot\u001b[39;00m is_traceback_filtering_enabled():\n",
      "\u001b[31mKeyboardInterrupt\u001b[39m: "
     ]
    }
   ],
   "source": [
    "import os\n",
    "import tensorflow as tf\n",
    "from tensorflow.keras.callbacks import TensorBoard, ModelCheckpoint, EarlyStopping\n",
    "\n",
    "# --- Setup ---\n",
    "INPUT_SHAPE = (IMG_HEIGHT, IMG_WIDTH, 1)\n",
    "NUM_CLASSES = len(class_names) # Get number of classes from the loaded data\n",
    "\n",
    "# --- Define Your Experiments ---\n",
    "experiments = [\n",
    "    {'id': 'lr_1e-3', 'learning_rate': 1e-3},\n",
    "    {'id': 'lr_5e-4', 'learning_rate': 5e-4},\n",
    "    {'id': 'lr_1e-4', 'learning_rate': 1e-4},\n",
    "]\n",
    "\n",
    "for config in experiments:\n",
    "    print(f\"\\n--- Running Experiment: {config['id']} ---\")\n",
    "\n",
    "    model = create_model(input_shape=INPUT_SHAPE, num_classes=NUM_CLASSES)\n",
    "    model.compile(\n",
    "        optimizer=tf.keras.optimizers.Adam(learning_rate=config['learning_rate']),\n",
    "        loss='sparse_categorical_crossentropy',\n",
    "        metrics=['accuracy']\n",
    "    )\n",
    "    model.summary()\n",
    "\n",
    "    log_dir = os.path.join(\"logs\", config['id'])\n",
    "    model_path = os.path.join(\"models\", f\"{config['id']}_best_model.keras\")\n",
    "    os.makedirs(os.path.dirname(model_path), exist_ok=True)\n",
    "\n",
    "    callbacks = [\n",
    "        TensorBoard(log_dir=log_dir),\n",
    "        ModelCheckpoint(filepath=model_path, save_best_only=True, monitor='val_accuracy', mode='max'),\n",
    "        EarlyStopping(monitor='val_accuracy', patience=5, restore_best_weights=True)\n",
    "    ]\n",
    "\n",
    "    history = model.fit(\n",
    "        train_ds,\n",
    "        epochs=100, # Set high, EarlyStopping will handle it\n",
    "        validation_data=val_ds,\n",
    "        callbacks=callbacks\n",
    "    )"
   ]
  },
  {
   "cell_type": "markdown",
   "metadata": {},
   "source": [
    "### Evaluation"
   ]
  },
  {
   "cell_type": "code",
   "execution_count": null,
   "metadata": {
    "colab": {
     "base_uri": "https://localhost:8080/"
    },
    "executionInfo": {
     "elapsed": 2682,
     "status": "ok",
     "timestamp": 1710973815131,
     "user": {
      "displayName": "Enzo Nicolás Stromberg Racciatti",
      "userId": "12238508451821531070"
     },
     "user_tz": 180
    },
    "id": "CkKCvqkz2_56",
    "outputId": "743d0ace-ef5b-409c-e0a1-6fed9c195128"
   },
   "outputs": [
    {
     "name": "stdout",
     "output_type": "stream",
     "text": [
      "313/313 - 2s - 8ms/step - accuracy: 0.9860 - loss: 0.1554\n"
     ]
    }
   ],
   "source": [
    "import tensorflow as tf\n",
    "\n",
    "# --- Evaluate the Best Model ---\n",
    "# Find which model performed best by checking the logs or filenames.\n",
    "# Let's assume the 'lr_5e-4' model was the best.\n",
    "best_model_path = 'models/lr_5e-4_best_model.keras'\n",
    "\n",
    "print(f\"Loading best model from: {best_model_path}\")\n",
    "loaded_model = tf.keras.models.load_model(best_model_path)\n",
    "\n",
    "# Evaluate the loaded model on your actual evaluation data\n",
    "print(\"\\nEvaluating on the processed evaluation dataset:\")\n",
    "loss, accuracy = loaded_model.evaluate(val_ds, verbose=2)\n",
    "\n",
    "print(f\"\\nEvaluation Accuracy: {accuracy*100:.2f}%\")"
   ]
  },
  {
   "cell_type": "markdown",
   "metadata": {},
   "source": [
    "### Post-training efficiency increase\n",
    "Quantization, ..."
   ]
  }
 ],
 "metadata": {
  "colab": {
   "authorship_tag": "ABX9TyONzSl3H77Q5Gqz5FnyphQ3",
   "provenance": []
  },
  "kernelspec": {
   "display_name": "venv (3.12.11)",
   "language": "python",
   "name": "python3"
  },
  "language_info": {
   "codemirror_mode": {
    "name": "ipython",
    "version": 3
   },
   "file_extension": ".py",
   "mimetype": "text/x-python",
   "name": "python",
   "nbconvert_exporter": "python",
   "pygments_lexer": "ipython3",
   "version": "3.12.11"
  }
 },
 "nbformat": 4,
 "nbformat_minor": 0
}
