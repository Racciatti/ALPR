{
 "cells": [
  {
   "cell_type": "markdown",
   "metadata": {},
   "source": [
    "### importing libraries"
   ]
  },
  {
   "cell_type": "code",
   "execution_count": 1,
   "metadata": {
    "id": "a4GHO8rkmS-G"
   },
   "outputs": [
    {
     "name": "stderr",
     "output_type": "stream",
     "text": [
      "2025-07-31 01:42:04.418339: I external/local_xla/xla/tsl/cuda/cudart_stub.cc:32] Could not find cuda drivers on your machine, GPU will not be used.\n",
      "2025-07-31 01:42:04.621720: I external/local_xla/xla/tsl/cuda/cudart_stub.cc:32] Could not find cuda drivers on your machine, GPU will not be used.\n",
      "2025-07-31 01:42:04.703345: E external/local_xla/xla/stream_executor/cuda/cuda_fft.cc:467] Unable to register cuFFT factory: Attempting to register factory for plugin cuFFT when one has already been registered\n",
      "WARNING: All log messages before absl::InitializeLog() is called are written to STDERR\n",
      "E0000 00:00:1753936924.854290   30554 cuda_dnn.cc:8579] Unable to register cuDNN factory: Attempting to register factory for plugin cuDNN when one has already been registered\n",
      "E0000 00:00:1753936924.890594   30554 cuda_blas.cc:1407] Unable to register cuBLAS factory: Attempting to register factory for plugin cuBLAS when one has already been registered\n",
      "W0000 00:00:1753936925.164006   30554 computation_placer.cc:177] computation placer already registered. Please check linkage and avoid linking the same target more than once.\n",
      "W0000 00:00:1753936925.164061   30554 computation_placer.cc:177] computation placer already registered. Please check linkage and avoid linking the same target more than once.\n",
      "W0000 00:00:1753936925.164065   30554 computation_placer.cc:177] computation placer already registered. Please check linkage and avoid linking the same target more than once.\n",
      "W0000 00:00:1753936925.164069   30554 computation_placer.cc:177] computation placer already registered. Please check linkage and avoid linking the same target more than once.\n",
      "2025-07-31 01:42:05.178160: I tensorflow/core/platform/cpu_feature_guard.cc:210] This TensorFlow binary is optimized to use available CPU instructions in performance-critical operations.\n",
      "To enable the following instructions: AVX2 FMA, in other operations, rebuild TensorFlow with the appropriate compiler flags.\n"
     ]
    }
   ],
   "source": [
    "from tensorflow.keras import layers, models, datasets, Model\n",
    "from PIL import Image"
   ]
  },
  {
   "cell_type": "markdown",
   "metadata": {
    "colab": {
     "base_uri": "https://localhost:8080/"
    },
    "executionInfo": {
     "elapsed": 1434,
     "status": "ok",
     "timestamp": 1710973724243,
     "user": {
      "displayName": "Enzo Nicolás Stromberg Racciatti",
      "userId": "12238508451821531070"
     },
     "user_tz": 180
    },
    "id": "tAXTbXe8T6yW",
    "outputId": "beb8a478-6000-4709-f10e-4747c814bb10"
   },
   "source": [
    "### loading data"
   ]
  },
  {
   "cell_type": "code",
   "execution_count": null,
   "metadata": {},
   "outputs": [],
   "source": [
    "# EXEMPLO AQUI: É NESSE FORMATO QUE PRECISAMOS\n",
    "\n",
    "\n",
    "(train_images, train_labels), (test_images, test_labels) = datasets.mnist.load_data()\n",
    "\n",
    "# Setting input shape, normalizing color channel, setting datatype to float32 for numerical stability\n",
    "train_images = train_images.reshape((60000, 28, 28, 1)).astype('float32') / 255\n",
    "test_images = test_images.reshape((10000, 28, 28, 1)).astype('float32') / 255\n",
    "\n",
    "classes = [str(i) for i in range(10)]"
   ]
  },
  {
   "cell_type": "markdown",
   "metadata": {},
   "source": [
    "### Data preprocessing "
   ]
  },
  {
   "cell_type": "markdown",
   "metadata": {},
   "source": [
    "#### Image size reduction\n",
    "2.5 x reduction --> 6.25 pixel number reduction"
   ]
  },
  {
   "cell_type": "code",
   "execution_count": 6,
   "metadata": {},
   "outputs": [
    {
     "name": "stdout",
     "output_type": "stream",
     "text": [
      "Found 24850 images to resize. Starting process...\n"
     ]
    },
    {
     "name": "stderr",
     "output_type": "stream",
     "text": [
      "100%|██████████| 24850/24850 [00:10<00:00, 2311.73it/s]\n"
     ]
    },
    {
     "name": "stdout",
     "output_type": "stream",
     "text": [
      "\n",
      "✅ Done! Successfully resized and saved 24850 images to ./data/resized/\n"
     ]
    }
   ],
   "source": [
    "import os\n",
    "import cv2\n",
    "from concurrent.futures import ProcessPoolExecutor\n",
    "from tqdm import tqdm\n",
    "\n",
    "# --- Configuration ---\n",
    "SOURCE_DIR = './data/train/'      # Folder with class subfolders (e.g., A, B, C...)\n",
    "OUTPUT_DIR = './data/resized/'    # Where to save the resized images\n",
    "NEW_SIZE = (40, 30)               # New size for the images (width, height)\n",
    "\n",
    "# --- 1. Function to resize and save a single image ---\n",
    "def resize_and_save(relative_path):\n",
    "    \"\"\"\n",
    "    Reads an image from its relative path, resizes it, and saves it to the\n",
    "    output directory while maintaining the subfolder structure.\n",
    "    \"\"\"\n",
    "    try:\n",
    "        # Construct the full input and output paths\n",
    "        full_input_path = os.path.join(SOURCE_DIR, relative_path)\n",
    "        full_output_path = os.path.join(OUTPUT_DIR, relative_path)\n",
    "\n",
    "        # Create the destination subdirectory if it doesn't exist\n",
    "        os.makedirs(os.path.dirname(full_output_path), exist_ok=True)\n",
    "\n",
    "        # Read the image\n",
    "        image = cv2.imread(full_input_path, cv2.IMREAD_GRAYSCALE)\n",
    "        if image is None:\n",
    "            # print(f\"Warning: Could not read {full_input_path}, skipping.\")\n",
    "            return 0 # Return 0 for failure\n",
    "\n",
    "        # Resize the image using INTER_AREA for best downscaling results\n",
    "        resized_image = cv2.resize(image, NEW_SIZE, interpolation=cv2.INTER_AREA)\n",
    "\n",
    "        # Save the resized image\n",
    "        cv2.imwrite(full_output_path, resized_image)\n",
    "        return 1 # Return 1 for success\n",
    "    except Exception as e:\n",
    "        print(f\"Error processing {relative_path}: {e}\")\n",
    "        return 0\n",
    "\n",
    "# --- 2. Main execution block to run the process in parallel ---\n",
    "if __name__ == \"__main__\":\n",
    "    # Find all image files in the source directory and its subdirectories\n",
    "    all_image_paths = []\n",
    "    for root, _, files in os.walk(SOURCE_DIR):\n",
    "        for file in files:\n",
    "            if file.lower().endswith(('.png', '.jpg', '.jpeg')):\n",
    "                # Get the path relative to the source directory (e.g., \"A/image1.png\")\n",
    "                relative_path = os.path.relpath(os.path.join(root, file), SOURCE_DIR)\n",
    "                all_image_paths.append(relative_path)\n",
    "    \n",
    "    if not all_image_paths:\n",
    "        print(f\"No images found in {SOURCE_DIR}. Please check the path.\")\n",
    "    else:\n",
    "        print(f\"Found {len(all_image_paths)} images to resize. Starting process...\")\n",
    "\n",
    "        # Use ProcessPoolExecutor to run resizing on all available CPU cores\n",
    "        with ProcessPoolExecutor() as executor:\n",
    "            # Use tqdm to create a progress bar\n",
    "            results = list(tqdm(executor.map(resize_and_save, all_image_paths), total=len(all_image_paths)))\n",
    "\n",
    "        total_processed = sum(results)\n",
    "        print(f\"\\n✅ Done! Successfully resized and saved {total_processed} images to {OUTPUT_DIR}\")"
   ]
  },
  {
   "cell_type": "markdown",
   "metadata": {},
   "source": [
    "#### Thresholding"
   ]
  },
  {
   "cell_type": "markdown",
   "metadata": {},
   "source": [
    "##### OTSU"
   ]
  },
  {
   "cell_type": "code",
   "execution_count": 7,
   "metadata": {},
   "outputs": [
    {
     "name": "stdout",
     "output_type": "stream",
     "text": [
      "Found 24850 images to threshold. Starting process...\n"
     ]
    },
    {
     "name": "stderr",
     "output_type": "stream",
     "text": [
      "100%|██████████| 24850/24850 [00:09<00:00, 2746.48it/s]\n"
     ]
    },
    {
     "name": "stdout",
     "output_type": "stream",
     "text": [
      "\n",
      "✅ Done! Successfully processed and saved 24850 images to ./data/thresholded/\n"
     ]
    }
   ],
   "source": [
    "import os\n",
    "import cv2\n",
    "from concurrent.futures import ProcessPoolExecutor\n",
    "from tqdm import tqdm\n",
    "\n",
    "# --- Configuration ---\n",
    "# Use the resized images as the source for maximum efficiency\n",
    "SOURCE_DIR = './data/resized/'\n",
    "OUTPUT_DIR = './data/thresholded/'\n",
    "\n",
    "# --- 1. Function to threshold and save a single image ---\n",
    "def threshold_and_save(relative_path):\n",
    "    \"\"\"\n",
    "    Reads an image, applies Otsu's thresholding, and saves the result.\n",
    "    \"\"\"\n",
    "    try:\n",
    "        # Construct full input and output paths\n",
    "        full_input_path = os.path.join(SOURCE_DIR, relative_path)\n",
    "        full_output_path = os.path.join(OUTPUT_DIR, relative_path)\n",
    "\n",
    "        # Create the destination subdirectory if it doesn't exist\n",
    "        os.makedirs(os.path.dirname(full_output_path), exist_ok=True)\n",
    "\n",
    "        # Read the image in grayscale\n",
    "        image = cv2.imread(full_input_path, cv2.IMREAD_GRAYSCALE)\n",
    "        if image is None:\n",
    "            return 0  # Return 0 for failure\n",
    "\n",
    "        # Apply Otsu's thresholding\n",
    "        # The [1] selects the image array from the tuple returned by cv2.threshold\n",
    "        thresholded_image = cv2.threshold(image, 0, 255, cv2.THRESH_BINARY_INV + cv2.THRESH_OTSU)[1]\n",
    "\n",
    "        # Save the thresholded image\n",
    "        cv2.imwrite(full_output_path, thresholded_image)\n",
    "        return 1  # Return 1 for success\n",
    "    except Exception as e:\n",
    "        print(f\"Error processing {relative_path}: {e}\")\n",
    "        return 0\n",
    "\n",
    "# --- 2. Main execution block to run the process in parallel ---\n",
    "if __name__ == \"__main__\":\n",
    "    # Find all image files in the source directory\n",
    "    all_image_paths = []\n",
    "    for root, _, files in os.walk(SOURCE_DIR):\n",
    "        for file in files:\n",
    "            if file.lower().endswith(('.png', '.jpg', '.jpeg')):\n",
    "                relative_path = os.path.relpath(os.path.join(root, file), SOURCE_DIR)\n",
    "                all_image_paths.append(relative_path)\n",
    "\n",
    "    if not all_image_paths:\n",
    "        print(f\"No images found in {SOURCE_DIR}. Please check the path.\")\n",
    "    else:\n",
    "        print(f\"Found {len(all_image_paths)} images to threshold. Starting process...\")\n",
    "\n",
    "        # Use ProcessPoolExecutor to run on all available CPU cores\n",
    "        with ProcessPoolExecutor() as executor:\n",
    "            # Use tqdm to create a progress bar\n",
    "            results = list(tqdm(executor.map(threshold_and_save, all_image_paths), total=len(all_image_paths)))\n",
    "\n",
    "        total_processed = sum(results)\n",
    "        print(f\"\\n✅ Done! Successfully processed and saved {total_processed} images to {OUTPUT_DIR}\")"
   ]
  },
  {
   "cell_type": "markdown",
   "metadata": {},
   "source": [
    "##### Adaptive Thresholding"
   ]
  },
  {
   "cell_type": "code",
   "execution_count": 8,
   "metadata": {},
   "outputs": [
    {
     "name": "stdout",
     "output_type": "stream",
     "text": [
      "Found 24850 images to process. Starting...\n"
     ]
    },
    {
     "name": "stderr",
     "output_type": "stream",
     "text": [
      "100%|██████████| 24850/24850 [00:09<00:00, 2648.44it/s]\n"
     ]
    },
    {
     "name": "stdout",
     "output_type": "stream",
     "text": [
      "\n",
      "✅ Done! Processed 24850 images saved to ./data/adaptive_thresholded/\n"
     ]
    }
   ],
   "source": [
    "import os\n",
    "import cv2\n",
    "from concurrent.futures import ProcessPoolExecutor\n",
    "from tqdm import tqdm\n",
    "\n",
    "# --- Configuration ---\n",
    "SOURCE_DIR = './data/resized/'\n",
    "OUTPUT_DIR = './data/adaptive_thresholded/'\n",
    "BLOCK_SIZE = 15  # Must be an odd number (e.g., 11, 15, 21)\n",
    "C_CONSTANT = 4   # Constant to subtract from the mean (fine-tune this)\n",
    "\n",
    "# --- 1. Function to apply adaptive thresholding and save ---\n",
    "def adaptive_threshold_and_save(relative_path):\n",
    "    \"\"\"\n",
    "    Reads an image, applies adaptive thresholding, and saves the result.\n",
    "    \"\"\"\n",
    "    try:\n",
    "        full_input_path = os.path.join(SOURCE_DIR, relative_path)\n",
    "        full_output_path = os.path.join(OUTPUT_DIR, relative_path)\n",
    "\n",
    "        os.makedirs(os.path.dirname(full_output_path), exist_ok=True)\n",
    "\n",
    "        image = cv2.imread(full_input_path, cv2.IMREAD_GRAYSCALE)\n",
    "        if image is None:\n",
    "            return 0\n",
    "\n",
    "        # Apply Adaptive Thresholding\n",
    "        thresholded_image = cv2.adaptiveThreshold(\n",
    "            image,\n",
    "            255,                                  # Max value to assign\n",
    "            cv2.ADAPTIVE_THRESH_GAUSSIAN_C,       # Method to calculate threshold\n",
    "            cv2.THRESH_BINARY_INV,                # Invert the image (character is white)\n",
    "            BLOCK_SIZE,                           # Neighborhood size\n",
    "            C_CONSTANT                            # Constant to subtract\n",
    "        )\n",
    "\n",
    "        cv2.imwrite(full_output_path, thresholded_image)\n",
    "        return 1\n",
    "    except Exception as e:\n",
    "        print(f\"Error processing {relative_path}: {e}\")\n",
    "        return 0\n",
    "\n",
    "# --- 2. Main execution block ---\n",
    "if __name__ == \"__main__\":\n",
    "    all_image_paths = []\n",
    "    for root, _, files in os.walk(SOURCE_DIR):\n",
    "        for file in files:\n",
    "            if file.lower().endswith(('.png', '.jpg', '.jpeg')):\n",
    "                relative_path = os.path.relpath(os.path.join(root, file), SOURCE_DIR)\n",
    "                all_image_paths.append(relative_path)\n",
    "\n",
    "    if not all_image_paths:\n",
    "        print(f\"No images found in {SOURCE_DIR}. Please check the path.\")\n",
    "    else:\n",
    "        print(f\"Found {len(all_image_paths)} images to process. Starting...\")\n",
    "\n",
    "        with ProcessPoolExecutor() as executor:\n",
    "            results = list(tqdm(executor.map(adaptive_threshold_and_save, all_image_paths), total=len(all_image_paths)))\n",
    "\n",
    "        total_processed = sum(results)\n",
    "        print(f\"\\n✅ Done! Processed {total_processed} images saved to {OUTPUT_DIR}\")"
   ]
  },
  {
   "cell_type": "markdown",
   "metadata": {},
   "source": [
    "#### Data cleaning\n",
    "Removing bad examples from the training dataset"
   ]
  },
  {
   "cell_type": "code",
   "execution_count": null,
   "metadata": {},
   "outputs": [
    {
     "name": "stdout",
     "output_type": "stream",
     "text": [
      "Found 24850 images to clean. Starting process...\n"
     ]
    },
    {
     "name": "stderr",
     "output_type": "stream",
     "text": [
      "100%|██████████| 24850/24850 [00:08<00:00, 2804.88it/s]\n"
     ]
    },
    {
     "name": "stdout",
     "output_type": "stream",
     "text": [
      "\n",
      "✅ Done! Kept 22864 images and discarded 1986.\n",
      "Cleaned images are saved in ./data/cleaned/\n"
     ]
    }
   ],
   "source": [
    "import os\n",
    "import cv2\n",
    "import numpy as np\n",
    "from concurrent.futures import ProcessPoolExecutor\n",
    "from tqdm import tqdm\n",
    "\n",
    "# --- Configuration: TUNE THESE VALUES ---\n",
    "SOURCE_DIR = './data/thresholded/'\n",
    "OUTPUT_DIR = './data/cleaned/'\n",
    "\n",
    "# -- Contour Filters --\n",
    "MIN_CONTOURS = 1      # Minimum number of contours to be considered valid\n",
    "MAX_CONTOURS = 3     # Maximum number of contours (to filter out noisy images)\n",
    "\n",
    "# This filters out images that are mostly blank or mostly solid white\n",
    "MIN_AREA_RATIO = 0.20 \n",
    "MAX_AREA_RATIO = 0.80  \n",
    "\n",
    "def analyze_and_filter_image(relative_path):\n",
    "    try:\n",
    "        full_input_path = os.path.join(SOURCE_DIR, relative_path)\n",
    "        image = cv2.imread(full_input_path, cv2.IMREAD_GRAYSCALE)\n",
    "        if image is None: return 0\n",
    "\n",
    "        # Find all contours in the binary image\n",
    "        contours, _ = cv2.findContours(image, cv2.RETR_EXTERNAL, cv2.CHAIN_APPROX_SIMPLE)\n",
    "        \n",
    "        # --- Apply Filtering Logic ---\n",
    "        # 1. Filter by number of contours\n",
    "        if not (MIN_CONTOURS <= len(contours) <= MAX_CONTOURS):\n",
    "            return 0 # Discard\n",
    "\n",
    "        # 2. Filter by the area of the largest contour\n",
    "        image_area = image.shape[0] * image.shape[1]\n",
    "        largest_contour = max(contours, key=cv2.contourArea)\n",
    "        contour_area = cv2.contourArea(largest_contour)\n",
    "        area_ratio = contour_area / image_area\n",
    "        \n",
    "        if not (MIN_AREA_RATIO <= area_ratio <= MAX_AREA_RATIO):\n",
    "            return 0 # Discard\n",
    "        \n",
    "        # --- If all checks pass, copy the file ---\n",
    "        full_output_path = os.path.join(OUTPUT_DIR, relative_path)\n",
    "        os.makedirs(os.path.dirname(full_output_path), exist_ok=True)\n",
    "        cv2.imwrite(full_output_path, image) # Using cv2.imwrite to copy\n",
    "        \n",
    "        return 1 # Keep\n",
    "    except Exception:\n",
    "        return 0\n",
    "\n",
    "# --- 2. Main execution block ---\n",
    "if __name__ == \"__main__\":\n",
    "    all_image_paths = []\n",
    "    for root, _, files in os.walk(SOURCE_DIR):\n",
    "        for file in files:\n",
    "            if file.lower().endswith(('.png', '.jpg', '.jpeg')):\n",
    "                relative_path = os.path.relpath(os.path.join(root, file), SOURCE_DIR)\n",
    "                all_image_paths.append(relative_path)\n",
    "\n",
    "    if not all_image_paths:\n",
    "        print(f\"No images found in {SOURCE_DIR}.\")\n",
    "    else:\n",
    "        print(f\"Found {len(all_image_paths)} images to clean. Starting process...\")\n",
    "\n",
    "        with ProcessPoolExecutor() as executor:\n",
    "            results = list(tqdm(executor.map(analyze_and_filter_image, all_image_paths), total=len(all_image_paths)))\n",
    "\n",
    "        total_kept = sum(results)\n",
    "        total_discarded = len(all_image_paths) - total_kept\n",
    "        print(f\"\\n✅ Done! Kept {total_kept} images and discarded {total_discarded}.\")\n",
    "        print(f\"Cleaned images are saved in {OUTPUT_DIR}\")"
   ]
  },
  {
   "cell_type": "markdown",
   "metadata": {},
   "source": [
    "#### Checking for dataset balance after cleaning"
   ]
  },
  {
   "cell_type": "code",
   "execution_count": 19,
   "metadata": {},
   "outputs": [
    {
     "name": "stdout",
     "output_type": "stream",
     "text": [
      "Number of classes: 35\n"
     ]
    },
    {
     "data": {
      "image/png": "[encoded data removed]",
      "text/plain": [
       "<Figure size 640x480 with 1 Axes>"
      ]
     },
     "metadata": {},
     "output_type": "display_data"
    },
    {
     "name": "stdout",
     "output_type": "stream",
     "text": [
      "\n",
      "Classes: ['0', '1', '2', '3', '4', '5', '6', '7', '8', '9', 'A', 'B', 'C', 'D', 'E', 'F', 'G', 'H', 'I', 'J', 'K', 'L', 'M', 'N', 'P', 'Q', 'R', 'S', 'T', 'U', 'V', 'W', 'X', 'Y', 'Z']\n",
      "Examples per class: [490, 665, 505, 563, 532, 457, 585, 562, 589, 563, 553, 558, 597, 476, 493, 550, 576, 486, 618, 530, 587, 477, 603, 623, 506, 547, 627, 605, 516, 566, 597, 510, 619, 556, 401]\n",
      "Total examples: 19288\n",
      "Average examples per class: 551.09\n"
     ]
    }
   ],
   "source": [
    "#!/usr/bin/env python3\n",
    "\"\"\"\n",
    "Data Exploration Script\n",
    "Converted from data-exploration.ipynb\n",
    "\"\"\"\n",
    "\n",
    "# Importing libraries\n",
    "import os\n",
    "from matplotlib import pyplot as plt\n",
    "\n",
    "# Checking the training dataset\n",
    "\n",
    "# Checking the number of examples to guarantee balanced training\n",
    "base_path = \"./data/cleaned/\" \n",
    "classes = [entry.name for entry in os.scandir(base_path)]\n",
    "print(f\"Number of classes: {len(classes)}\")\n",
    "\n",
    "# Count examples per class and create bar chart\n",
    "examples_count = [len(list(os.scandir(f\"{base_path}/{char}\"))) for char in classes]\n",
    "plt.bar(classes, examples_count)\n",
    "plt.title(\"Examples per Class\")\n",
    "plt.xlabel(\"Classes\")\n",
    "plt.ylabel(\"Number of Examples\")\n",
    "plt.xticks(rotation=45)\n",
    "plt.tight_layout()\n",
    "plt.show()\n",
    "\n",
    "# Print summary statistics\n",
    "print(f\"\\nClasses: {classes}\")\n",
    "print(f\"Examples per class: {examples_count}\")\n",
    "print(f\"Total examples: {sum(examples_count)}\")\n",
    "print(f\"Average examples per class: {sum(examples_count) / len(examples_count):.2f}\")"
   ]
  },
  {
   "cell_type": "markdown",
   "metadata": {},
   "source": [
    "#### Data augmentation"
   ]
  },
  {
   "cell_type": "code",
   "execution_count": null,
   "metadata": {},
   "outputs": [
    {
     "name": "stdout",
     "output_type": "stream",
     "text": [
      "Number of classes: 35\n"
     ]
    },
    {
     "data": {
      "image/png": "[encoded data removed]",
      "text/plain": [
       "<Figure size 640x480 with 1 Axes>"
      ]
     },
     "metadata": {},
     "output_type": "display_data"
    },
    {
     "name": "stdout",
     "output_type": "stream",
     "text": [
      "\n",
      "Classes: ['0', '1', '2', '3', '4', '5', '6', '7', '8', '9', 'A', 'B', 'C', 'D', 'E', 'F', 'G', 'H', 'I', 'J', 'K', 'L', 'M', 'N', 'P', 'Q', 'R', 'S', 'T', 'U', 'V', 'W', 'X', 'Y', 'Z']\n",
      "Examples per class: [671, 721, 721, 721, 721, 721, 721, 721, 679, 721, 707, 660, 714, 647, 707, 714, 714, 714, 707, 721, 707, 707, 714, 714, 707, 654, 714, 714, 714, 707, 721, 707, 707, 707, 567]\n",
      "Total examples: 24584\n",
      "Average examples per class: 702.40\n"
     ]
    }
   ],
   "source": [
    "import os\n",
    "import cv2\n",
    "import albumentations as A\n",
    "from concurrent.futures import ProcessPoolExecutor\n",
    "\n",
    "# --- Configuration ---\n",
    "BASE_PATH = \"./data/train/\"\n",
    "SOURCE_DIR = BASE_PATH\n",
    "OUTPUT_DIR = './data/train/augmented_data'\n",
    "NUM_AUGMENTATIONS_PER_IMAGE = 10 # How many new versions to create for each original\n",
    "\n",
    "# These are good augmentations for character OCR. They are applied with some probability.\n",
    "transform = A.Compose([\n",
    "    A.Affine(\n",
    "        translate_percent=0.05,\n",
    "        scale=(0.95, 1.05),\n",
    "        rotate=(-10, 10),\n",
    "        p=0.8\n",
    "    ),\n",
    "    A.MotionBlur(blur_limit=5, p=0.5),\n",
    "    A.RandomBrightnessContrast(brightness_limit=0.2, contrast_limit=0.2, p=0.7),\n",
    "])\n",
    "\n",
    "def augment_and_save(image_filename):\n",
    "    # Create output directory if it doesn't exist\n",
    "    if not os.path.exists(OUTPUT_DIR):\n",
    "        os.makedirs(OUTPUT_DIR)\n",
    "\n",
    "    filepath = os.path.join(SOURCE_DIR, image_filename)\n",
    "    try:\n",
    "        # Read the image using OpenCV\n",
    "        image = cv2.imread(filepath, cv2.IMREAD_GRAYSCALE)\n",
    "        if image is None:\n",
    "            print(f\"Warning: Could not read {image_filename}, skipping.\")\n",
    "            return 0\n",
    "\n",
    "        # Generate and save augmented images\n",
    "        saved_count = 0\n",
    "        base_filename = os.path.splitext(image_filename)[0]\n",
    "        \n",
    "        for i in range(NUM_AUGMENTATIONS_PER_IMAGE):\n",
    "            augmented = transform(image=image)\n",
    "            augmented_image = augmented['image']\n",
    "\n",
    "            new_filename = f\"{base_filename}_aug_{i}.png\"\n",
    "            output_path = os.path.join(OUTPUT_DIR, new_filename)\n",
    "            \n",
    "            # Create subdirectory if it doesn't exist\n",
    "            os.makedirs(os.path.dirname(output_path), exist_ok=True)\n",
    "            \n",
    "            cv2.imwrite(output_path, augmented_image)\n",
    "            saved_count += 1\n",
    "        return saved_count\n",
    "    except Exception as e:\n",
    "        print(f\"Error processing {image_filename}: {e}\")\n",
    "        return 0\n"
   ]
  },
  {
   "cell_type": "markdown",
   "metadata": {},
   "source": [
    "not perfect, but acceptable"
   ]
  },
  {
   "cell_type": "code",
   "execution_count": null,
   "metadata": {},
   "outputs": [],
   "source": [
    "\n",
    "folders = [entry.name for entry in os.scandir(BASE_PATH)]\n",
    "\n",
    "for folder_name in folders:\n",
    "  print(folder_name)\n",
    "\n",
    "  image_files = [f\"{folder_name}/{f}\" for f in os.listdir(SOURCE_DIR+folder_name) if f.endswith(('.png'))]\n",
    "\n",
    "  # Use ProcessPoolExecutor to run augmentations on all available CPU cores\n",
    "  with ProcessPoolExecutor() as executor:\n",
    "      results = executor.map(augment_and_save, image_files)\n",
    "\n",
    "  # total_saved = sum(results)\n",
    "  # print(f\"\\nGenerated a total of {total_saved} augmented images for class\")"
   ]
  },
  {
   "cell_type": "markdown",
   "metadata": {},
   "source": [
    "### architecture\n",
    "\n",
    "Input -> Conv2D -> ReLU -> MaxPool2D -> Conv2D -> ReLU -> MaxPool2D -> Flatten -> Dense -> ReLU -> Dense (Output) -> Softmax\n",
    "Use batch normalization\n",
    "IF SIGNS OF OVERFITTING: DROPOUT. IF OVER REGULARIZED: L2 REG (WD) "
   ]
  },
  {
   "cell_type": "code",
   "execution_count": 3,
   "metadata": {
    "id": "I72w6YnovPpJ"
   },
   "outputs": [
    {
     "name": "stderr",
     "output_type": "stream",
     "text": [
      "c:\\Users\\Enzo Racciatti\\AppData\\Local\\Programs\\Python\\Python312\\Lib\\site-packages\\keras\\src\\layers\\convolutional\\base_conv.py:99: UserWarning: Do not pass an `input_shape`/`input_dim` argument to a layer. When using Sequential models, prefer using an `Input(shape)` object as the first layer in the model instead.\n",
      "  super().__init__(\n"
     ]
    }
   ],
   "source": [
    "#@title Model: convolutional layers\n",
    "\n",
    "model = models.Sequential()\n",
    "\n",
    "\n",
    "model.add(layers.Conv2D(24, (3, 3), activation = 'relu', input_shape = (28, 28, 1))) # -> (25,25,1)\n",
    "model.add(layers.MaxPooling2D((2, 2))) # -> (23,23,1)\n",
    "\n",
    "model.add(layers.Conv2D(48, (3, 3), strides=(2,2), activation = 'relu')) # -> (10,10,1)\n",
    "model.add(layers.MaxPooling2D((2, 2))) # -> (8,8,1)\n"
   ]
  },
  {
   "cell_type": "code",
   "execution_count": 4,
   "metadata": {
    "id": "8qJQ0Et1vXwk"
   },
   "outputs": [],
   "source": [
    "#@title Model: Fully connected layers\n",
    "\n",
    "model.add(layers.Flatten())\n",
    "model.add(layers.Dense(64, activation = 'relu'))\n",
    "model.add(layers.Dense(32, activation = 'softmax'))"
   ]
  },
  {
   "cell_type": "code",
   "execution_count": 5,
   "metadata": {
    "colab": {
     "base_uri": "https://localhost:8080/"
    },
    "executionInfo": {
     "elapsed": 415,
     "status": "ok",
     "timestamp": 1710973725275,
     "user": {
      "displayName": "Enzo Nicolás Stromberg Racciatti",
      "userId": "12238508451821531070"
     },
     "user_tz": 180
    },
    "id": "EFVxFgiY0riI",
    "outputId": "1d76edd0-3ba0-4f5a-8a0d-013121410ebe"
   },
   "outputs": [
    {
     "data": {
      "text/html": [
       "<pre style=\"white-space:pre;overflow-x:auto;line-height:normal;font-family:Menlo,'DejaVu Sans Mono',consolas,'Courier New',monospace\"><span style=\"font-weight: bold\">Model: \"sequential\"</span>\n",
       "</pre>\n"
      ],
      "text/plain": [
       "\u001b[1mModel: \"sequential\"\u001b[0m\n"
      ]
     },
     "metadata": {},
     "output_type": "display_data"
    },
    {
     "data": {
      "text/html": [
       "<pre style=\"white-space:pre;overflow-x:auto;line-height:normal;font-family:Menlo,'DejaVu Sans Mono',consolas,'Courier New',monospace\">┏━━━━━━━━━━━━━━━━━━━━━━━━━━━━━━━━━┳━━━━━━━━━━━━━━━━━━━━━━━━┳━━━━━━━━━━━━━━━┓\n",
       "┃<span style=\"font-weight: bold\"> Layer (type)                    </span>┃<span style=\"font-weight: bold\"> Output Shape           </span>┃<span style=\"font-weight: bold\">       Param # </span>┃\n",
       "┡━━━━━━━━━━━━━━━━━━━━━━━━━━━━━━━━━╇━━━━━━━━━━━━━━━━━━━━━━━━╇━━━━━━━━━━━━━━━┩\n",
       "│ conv2d (<span style=\"color: #0087ff; text-decoration-color: #0087ff\">Conv2D</span>)                 │ (<span style=\"color: #00d7ff; text-decoration-color: #00d7ff\">None</span>, <span style=\"color: #00af00; text-decoration-color: #00af00\">26</span>, <span style=\"color: #00af00; text-decoration-color: #00af00\">26</span>, <span style=\"color: #00af00; text-decoration-color: #00af00\">24</span>)     │           <span style=\"color: #00af00; text-decoration-color: #00af00\">240</span> │\n",
       "├─────────────────────────────────┼────────────────────────┼───────────────┤\n",
       "│ max_pooling2d (<span style=\"color: #0087ff; text-decoration-color: #0087ff\">MaxPooling2D</span>)    │ (<span style=\"color: #00d7ff; text-decoration-color: #00d7ff\">None</span>, <span style=\"color: #00af00; text-decoration-color: #00af00\">13</span>, <span style=\"color: #00af00; text-decoration-color: #00af00\">13</span>, <span style=\"color: #00af00; text-decoration-color: #00af00\">24</span>)     │             <span style=\"color: #00af00; text-decoration-color: #00af00\">0</span> │\n",
       "├─────────────────────────────────┼────────────────────────┼───────────────┤\n",
       "│ conv2d_1 (<span style=\"color: #0087ff; text-decoration-color: #0087ff\">Conv2D</span>)               │ (<span style=\"color: #00d7ff; text-decoration-color: #00d7ff\">None</span>, <span style=\"color: #00af00; text-decoration-color: #00af00\">6</span>, <span style=\"color: #00af00; text-decoration-color: #00af00\">6</span>, <span style=\"color: #00af00; text-decoration-color: #00af00\">48</span>)       │        <span style=\"color: #00af00; text-decoration-color: #00af00\">10,416</span> │\n",
       "├─────────────────────────────────┼────────────────────────┼───────────────┤\n",
       "│ max_pooling2d_1 (<span style=\"color: #0087ff; text-decoration-color: #0087ff\">MaxPooling2D</span>)  │ (<span style=\"color: #00d7ff; text-decoration-color: #00d7ff\">None</span>, <span style=\"color: #00af00; text-decoration-color: #00af00\">3</span>, <span style=\"color: #00af00; text-decoration-color: #00af00\">3</span>, <span style=\"color: #00af00; text-decoration-color: #00af00\">48</span>)       │             <span style=\"color: #00af00; text-decoration-color: #00af00\">0</span> │\n",
       "├─────────────────────────────────┼────────────────────────┼───────────────┤\n",
       "│ flatten (<span style=\"color: #0087ff; text-decoration-color: #0087ff\">Flatten</span>)               │ (<span style=\"color: #00d7ff; text-decoration-color: #00d7ff\">None</span>, <span style=\"color: #00af00; text-decoration-color: #00af00\">432</span>)            │             <span style=\"color: #00af00; text-decoration-color: #00af00\">0</span> │\n",
       "├─────────────────────────────────┼────────────────────────┼───────────────┤\n",
       "│ dense (<span style=\"color: #0087ff; text-decoration-color: #0087ff\">Dense</span>)                   │ (<span style=\"color: #00d7ff; text-decoration-color: #00d7ff\">None</span>, <span style=\"color: #00af00; text-decoration-color: #00af00\">64</span>)             │        <span style=\"color: #00af00; text-decoration-color: #00af00\">27,712</span> │\n",
       "├─────────────────────────────────┼────────────────────────┼───────────────┤\n",
       "│ dense_1 (<span style=\"color: #0087ff; text-decoration-color: #0087ff\">Dense</span>)                 │ (<span style=\"color: #00d7ff; text-decoration-color: #00d7ff\">None</span>, <span style=\"color: #00af00; text-decoration-color: #00af00\">32</span>)             │         <span style=\"color: #00af00; text-decoration-color: #00af00\">2,080</span> │\n",
       "└─────────────────────────────────┴────────────────────────┴───────────────┘\n",
       "</pre>\n"
      ],
      "text/plain": [
       "┏━━━━━━━━━━━━━━━━━━━━━━━━━━━━━━━━━┳━━━━━━━━━━━━━━━━━━━━━━━━┳━━━━━━━━━━━━━━━┓\n",
       "┃\u001b[1m \u001b[0m\u001b[1mLayer (type)                   \u001b[0m\u001b[1m \u001b[0m┃\u001b[1m \u001b[0m\u001b[1mOutput Shape          \u001b[0m\u001b[1m \u001b[0m┃\u001b[1m \u001b[0m\u001b[1m      Param #\u001b[0m\u001b[1m \u001b[0m┃\n",
       "┡━━━━━━━━━━━━━━━━━━━━━━━━━━━━━━━━━╇━━━━━━━━━━━━━━━━━━━━━━━━╇━━━━━━━━━━━━━━━┩\n",
       "│ conv2d (\u001b[38;5;33mConv2D\u001b[0m)                 │ (\u001b[38;5;45mNone\u001b[0m, \u001b[38;5;34m26\u001b[0m, \u001b[38;5;34m26\u001b[0m, \u001b[38;5;34m24\u001b[0m)     │           \u001b[38;5;34m240\u001b[0m │\n",
       "├─────────────────────────────────┼────────────────────────┼───────────────┤\n",
       "│ max_pooling2d (\u001b[38;5;33mMaxPooling2D\u001b[0m)    │ (\u001b[38;5;45mNone\u001b[0m, \u001b[38;5;34m13\u001b[0m, \u001b[38;5;34m13\u001b[0m, \u001b[38;5;34m24\u001b[0m)     │             \u001b[38;5;34m0\u001b[0m │\n",
       "├─────────────────────────────────┼────────────────────────┼───────────────┤\n",
       "│ conv2d_1 (\u001b[38;5;33mConv2D\u001b[0m)               │ (\u001b[38;5;45mNone\u001b[0m, \u001b[38;5;34m6\u001b[0m, \u001b[38;5;34m6\u001b[0m, \u001b[38;5;34m48\u001b[0m)       │        \u001b[38;5;34m10,416\u001b[0m │\n",
       "├─────────────────────────────────┼────────────────────────┼───────────────┤\n",
       "│ max_pooling2d_1 (\u001b[38;5;33mMaxPooling2D\u001b[0m)  │ (\u001b[38;5;45mNone\u001b[0m, \u001b[38;5;34m3\u001b[0m, \u001b[38;5;34m3\u001b[0m, \u001b[38;5;34m48\u001b[0m)       │             \u001b[38;5;34m0\u001b[0m │\n",
       "├─────────────────────────────────┼────────────────────────┼───────────────┤\n",
       "│ flatten (\u001b[38;5;33mFlatten\u001b[0m)               │ (\u001b[38;5;45mNone\u001b[0m, \u001b[38;5;34m432\u001b[0m)            │             \u001b[38;5;34m0\u001b[0m │\n",
       "├─────────────────────────────────┼────────────────────────┼───────────────┤\n",
       "│ dense (\u001b[38;5;33mDense\u001b[0m)                   │ (\u001b[38;5;45mNone\u001b[0m, \u001b[38;5;34m64\u001b[0m)             │        \u001b[38;5;34m27,712\u001b[0m │\n",
       "├─────────────────────────────────┼────────────────────────┼───────────────┤\n",
       "│ dense_1 (\u001b[38;5;33mDense\u001b[0m)                 │ (\u001b[38;5;45mNone\u001b[0m, \u001b[38;5;34m32\u001b[0m)             │         \u001b[38;5;34m2,080\u001b[0m │\n",
       "└─────────────────────────────────┴────────────────────────┴───────────────┘\n"
      ]
     },
     "metadata": {},
     "output_type": "display_data"
    },
    {
     "data": {
      "text/html": [
       "<pre style=\"white-space:pre;overflow-x:auto;line-height:normal;font-family:Menlo,'DejaVu Sans Mono',consolas,'Courier New',monospace\"><span style=\"font-weight: bold\"> Total params: </span><span style=\"color: #00af00; text-decoration-color: #00af00\">40,448</span> (158.00 KB)\n",
       "</pre>\n"
      ],
      "text/plain": [
       "\u001b[1m Total params: \u001b[0m\u001b[38;5;34m40,448\u001b[0m (158.00 KB)\n"
      ]
     },
     "metadata": {},
     "output_type": "display_data"
    },
    {
     "data": {
      "text/html": [
       "<pre style=\"white-space:pre;overflow-x:auto;line-height:normal;font-family:Menlo,'DejaVu Sans Mono',consolas,'Courier New',monospace\"><span style=\"font-weight: bold\"> Trainable params: </span><span style=\"color: #00af00; text-decoration-color: #00af00\">40,448</span> (158.00 KB)\n",
       "</pre>\n"
      ],
      "text/plain": [
       "\u001b[1m Trainable params: \u001b[0m\u001b[38;5;34m40,448\u001b[0m (158.00 KB)\n"
      ]
     },
     "metadata": {},
     "output_type": "display_data"
    },
    {
     "data": {
      "text/html": [
       "<pre style=\"white-space:pre;overflow-x:auto;line-height:normal;font-family:Menlo,'DejaVu Sans Mono',consolas,'Courier New',monospace\"><span style=\"font-weight: bold\"> Non-trainable params: </span><span style=\"color: #00af00; text-decoration-color: #00af00\">0</span> (0.00 B)\n",
       "</pre>\n"
      ],
      "text/plain": [
       "\u001b[1m Non-trainable params: \u001b[0m\u001b[38;5;34m0\u001b[0m (0.00 B)\n"
      ]
     },
     "metadata": {},
     "output_type": "display_data"
    }
   ],
   "source": [
    "model.summary()"
   ]
  },
  {
   "cell_type": "code",
   "execution_count": 6,
   "metadata": {
    "id": "vAG3UJyN0w4y"
   },
   "outputs": [],
   "source": [
    "#@title Compilação\n",
    "model.compile(optimizer = 'adam',\n",
    "              loss = 'sparse_categorical_crossentropy',\n",
    "              metrics = ['accuracy'])"
   ]
  },
  {
   "cell_type": "markdown",
   "metadata": {},
   "source": [
    "### training\n"
   ]
  },
  {
   "cell_type": "markdown",
   "metadata": {},
   "source": [
    "#### early stopping config"
   ]
  },
  {
   "cell_type": "code",
   "execution_count": null,
   "metadata": {
    "colab": {
     "base_uri": "https://localhost:8080/"
    },
    "executionInfo": {
     "elapsed": 87178,
     "status": "ok",
     "timestamp": 1710973812451,
     "user": {
      "displayName": "Enzo Nicolás Stromberg Racciatti",
      "userId": "12238508451821531070"
     },
     "user_tz": 180
    },
    "id": "SQOe9aBL2FGP",
    "outputId": "e29e77ce-ec45-46c2-c0cd-5f41d95b407a"
   },
   "outputs": [],
   "source": [
    "\n",
    "from tensorflow.keras.callbacks import EarlyStopping\n",
    "\n",
    "\n",
    "# Configure the callback\n",
    "# 'monitor' is the metric to watch.\n",
    "# 'patience' is the number of epochs to wait for improvement.\n",
    "# 'restore_best_weights=True' automatically loads the model weights from the best epoch.\n",
    "\n",
    "early_stopper = EarlyStopping(monitor='val_loss', patience=5, restore_best_weights=True)"
   ]
  },
  {
   "cell_type": "markdown",
   "metadata": {},
   "source": [
    "#### Learning rate scheduler config"
   ]
  },
  {
   "cell_type": "code",
   "execution_count": null,
   "metadata": {},
   "outputs": [],
   "source": [
    "\n",
    "from tensorflow.keras.callbacks import ReduceLROnPlateau\n",
    "# Configure the callback\n",
    "lr_scheduler = ReduceLROnPlateau(monitor='val_loss',\n",
    "                                 factor=0.2, # Factor by which to reduce the LR: new_lr = lr * factor\n",
    "                                 patience=2, # Number of epochs with no improvement to wait\n",
    "                                 min_lr=0.00001) # Lower bound on the learning rate\n",
    "\n"
   ]
  },
  {
   "cell_type": "markdown",
   "metadata": {},
   "source": [
    "#### Traning itself"
   ]
  },
  {
   "cell_type": "code",
   "execution_count": null,
   "metadata": {},
   "outputs": [],
   "source": [
    "\n",
    "history = model.fit(train_images,\n",
    "                    train_labels,\n",
    "                    epochs = 1,\n",
    "                    validation_data = (test_images, test_labels))\n",
    "\n",
    "\n",
    "\n",
    "# Pass the callback to model.fit()\n",
    "# Make sure to provide validation data!\n",
    "model.fit(train_ds,\n",
    "          epochs=100, # Set a high number, early stopping will find the right time.\n",
    "          validation_data=val_ds,\n",
    "          callbacks=[early_stopper]) # Pass it in a list"
   ]
  },
  {
   "cell_type": "markdown",
   "metadata": {},
   "source": [
    "### Evaluation"
   ]
  },
  {
   "cell_type": "code",
   "execution_count": 8,
   "metadata": {
    "colab": {
     "base_uri": "https://localhost:8080/"
    },
    "executionInfo": {
     "elapsed": 2682,
     "status": "ok",
     "timestamp": 1710973815131,
     "user": {
      "displayName": "Enzo Nicolás Stromberg Racciatti",
      "userId": "12238508451821531070"
     },
     "user_tz": 180
    },
    "id": "CkKCvqkz2_56",
    "outputId": "743d0ace-ef5b-409c-e0a1-6fed9c195128"
   },
   "outputs": [
    {
     "name": "stdout",
     "output_type": "stream",
     "text": [
      "313/313 - 2s - 8ms/step - accuracy: 0.9860 - loss: 0.1554\n"
     ]
    }
   ],
   "source": [
    "test_error, test_acc = model.evaluate(test_images, test_labels, verbose=2)"
   ]
  },
  {
   "cell_type": "markdown",
   "metadata": {},
   "source": [
    "### Post-training efficiency increase\n",
    "Quantization, ..."
   ]
  },
  {
   "cell_type": "code",
   "execution_count": 13,
   "metadata": {},
   "outputs": [
    {
     "name": "stdout",
     "output_type": "stream",
     "text": [
      "Treino: 24850 imagens\n",
      "Avaliação: 10650 imagens\n",
      "Exemplo: shape da imagem = (100, 75, 1), rótulo = 0\n"
     ]
    }
   ],
   "source": [
    "import os\n",
    "import cv2\n",
    "import numpy as np\n",
    "\n",
    "def carregar_dados_como_tuplas(diretorio_base, tamanho=(75, 100)):\n",
    "    tuplas = []\n",
    "\n",
    "    # Percorrer todas as subpastas\n",
    "    for classe in sorted(os.listdir(diretorio_base)):\n",
    "        caminho_classe = os.path.join(diretorio_base, classe)\n",
    "\n",
    "        # Apenas se for diretório e não for a classe 'O'\n",
    "        if os.path.isdir(caminho_classe) and classe != 'O':\n",
    "            for arquivo in os.listdir(caminho_classe):\n",
    "                caminho_imagem = os.path.join(caminho_classe, arquivo)\n",
    "\n",
    "                imagem = cv2.imread(caminho_imagem, cv2.IMREAD_GRAYSCALE)\n",
    "                if imagem is None:\n",
    "                    continue\n",
    "\n",
    "                # Redimensionar\n",
    "                imagem = cv2.resize(imagem, tamanho)\n",
    "\n",
    "                # Normalizar e adicionar dimensão para CNN\n",
    "                imagem = imagem.astype('float32') / 255.0\n",
    "                imagem = np.expand_dims(imagem, axis=-1)\n",
    "\n",
    "                tuplas.append((imagem, classe))\n",
    "    \n",
    "    return tuplas\n",
    "\n",
    "\n",
    "# Caminhos (ajustáveis)\n",
    "caminho_train = 'data/train'\n",
    "caminho_eval = 'data/eval'\n",
    "\n",
    "# Carregar os dados\n",
    "dados_train = carregar_dados_como_tuplas(caminho_train)\n",
    "dados_eval = carregar_dados_como_tuplas(caminho_eval)\n",
    "\n",
    "# Dados combinados (se quiser juntar tudo)\n",
    "todos_os_dados = dados_train + dados_eval\n",
    "\n",
    "# Exemplo de visualização\n",
    "print(f'Treino: {len(dados_train)} imagens')\n",
    "print(f'Avaliação: {len(dados_eval)} imagens')\n",
    "print(f'Exemplo: shape da imagem = {dados_train[0][0].shape}, rótulo = {dados_train[0][1]}')"
   ]
  },
  {
   "cell_type": "code",
   "execution_count": null,
   "metadata": {},
   "outputs": [
    {
     "data": {
      "text/plain": [
       "'0'"
      ]
     },
     "execution_count": 16,
     "metadata": {},
     "output_type": "execute_result"
    }
   ],
   "source": []
  },
  {
   "cell_type": "markdown",
   "metadata": {},
   "source": [
    "#### Readying the training data"
   ]
  },
  {
   "cell_type": "code",
   "execution_count": null,
   "metadata": {},
   "outputs": [],
   "source": [
    "import os\n",
    "import cv2\n",
    "import numpy as np\n",
    "\n",
    "def carregar_dados_como_tuplas(diretorio_base, tamanho=(75, 100)):\n",
    "    tuplas = []\n",
    "\n",
    "    # Percorrer todas as subpastas\n",
    "    for classe in sorted(os.listdir(diretorio_base)):\n",
    "        caminho_classe = os.path.join(diretorio_base, classe)\n",
    "\n",
    "        # Apenas se for diretório e não for a classe 'O'\n",
    "        if os.path.isdir(caminho_classe) and classe != 'O':\n",
    "            for arquivo in os.listdir(caminho_classe):\n",
    "                caminho_imagem = os.path.join(caminho_classe, arquivo)\n",
    "\n",
    "                imagem = cv2.imread(caminho_imagem, cv2.IMREAD_GRAYSCALE)\n",
    "                if imagem is None:\n",
    "                    continue\n",
    "\n",
    "                # Redimensionar\n",
    "                imagem = cv2.resize(imagem, tamanho)\n",
    "\n",
    "                # Normalizar e adicionar dimensão para CNN\n",
    "                imagem = imagem.astype('float32') / 255.0\n",
    "                imagem = np.expand_dims(imagem, axis=-1)\n",
    "\n",
    "                tuplas.append((imagem, classe))\n",
    "    \n",
    "    return tuplas\n",
    "\n",
    "\n",
    "# Caminhos (ajustáveis)\n",
    "caminho_train = 'data/train'\n",
    "caminho_eval = 'data/eval'\n",
    "\n",
    "# Carregar os dados\n",
    "dados_train = carregar_dados_como_tuplas(caminho_train)\n",
    "dados_eval = carregar_dados_como_tuplas(caminho_eval)\n",
    "\n",
    "# Dados combinados (se quiser juntar tudo)\n",
    "todos_os_dados = dados_train + dados_eval\n",
    "\n",
    "# Exemplo de visualização\n",
    "print(f'Treino: {len(dados_train)} imagens')\n",
    "print(f'Avaliação: {len(dados_eval)} imagens')\n",
    "print(f'Exemplo: shape da imagem = {dados_train[0][0].shape}, rótulo = {dados_train[0][1]}')"
   ]
  }
 ],
 "metadata": {
  "colab": {
   "authorship_tag": "ABX9TyONzSl3H77Q5Gqz5FnyphQ3",
   "provenance": []
  },
  "kernelspec": {
   "display_name": "venv (3.12.11)",
   "language": "python",
   "name": "python3"
  },
  "language_info": {
   "codemirror_mode": {
    "name": "ipython",
    "version": 3
   },
   "file_extension": ".py",
   "mimetype": "text/x-python",
   "name": "python",
   "nbconvert_exporter": "python",
   "pygments_lexer": "ipython3",
   "version": "3.12.11"
  }
 },
 "nbformat": 4,
 "nbformat_minor": 0
}
